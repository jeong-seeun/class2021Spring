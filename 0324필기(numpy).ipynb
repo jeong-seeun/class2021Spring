{
  "nbformat": 4,
  "nbformat_minor": 0,
  "metadata": {
    "colab": {
      "name": "0324 필기(numpy).ipynb",
      "provenance": [],
      "authorship_tag": "ABX9TyOLa+ufYdeYVYq44JljAff9",
      "include_colab_link": true
    },
    "kernelspec": {
      "name": "python3",
      "display_name": "Python 3"
    },
    "language_info": {
      "name": "python"
    }
  },
  "cells": [
    {
      "cell_type": "markdown",
      "metadata": {
        "id": "view-in-github",
        "colab_type": "text"
      },
      "source": [
        "<a href=\"https://colab.research.google.com/github/jeong-seeun/class2021Spring/blob/main/0324%ED%95%84%EA%B8%B0(numpy).ipynb\" target=\"_parent\"><img src=\"https://colab.research.google.com/assets/colab-badge.svg\" alt=\"Open In Colab\"/></a>"
      ]
    },
    {
      "cell_type": "markdown",
      "metadata": {
        "id": "vr1mwbwAodcG"
      },
      "source": [
        "## 1. Creation"
      ]
    },
    {
      "cell_type": "code",
      "metadata": {
        "id": "Pe9VZ5LZnc3n"
      },
      "source": [
        "import numpy as np\n",
        "import matplotlib.pyplot as plt"
      ],
      "execution_count": 1,
      "outputs": []
    },
    {
      "cell_type": "markdown",
      "metadata": {
        "id": "qboVqsSNnfxN"
      },
      "source": [
        "numpy를 np라고 부르자.\n",
        "\n",
        "// matplotlib라는 큰 패키지 안에 pyplot라는 모듈을 plt라고 부르자."
      ]
    },
    {
      "cell_type": "code",
      "metadata": {
        "colab": {
          "base_uri": "https://localhost:8080/"
        },
        "id": "xcrWQO-Sn2Qk",
        "outputId": "994d3b5e-4e6a-4956-ac1b-61e69e7ef1a1"
      },
      "source": [
        "np.empty([2,3], dtype='int')"
      ],
      "execution_count": 2,
      "outputs": [
        {
          "output_type": "execute_result",
          "data": {
            "text/plain": [
              "array([[94400840835264,              0,              0],\n",
              "       [             0,              0,              0]])"
            ]
          },
          "metadata": {
            "tags": []
          },
          "execution_count": 2
        }
      ]
    },
    {
      "cell_type": "markdown",
      "metadata": {
        "id": "386aAgDjoPI9"
      },
      "source": [
        "np.empty : numpy 안에 empty를 불러옴.\n",
        "\n",
        "empty([2,3]) : 2행(세로) 3열(가로)의 행렬을 만들어라. "
      ]
    },
    {
      "cell_type": "code",
      "metadata": {
        "colab": {
          "base_uri": "https://localhost:8080/"
        },
        "id": "0mafOptzpDXV",
        "outputId": "1f36f1eb-e449-425b-e0fc-5b9d843fb0d7"
      },
      "source": [
        "np.zeros([2,3])"
      ],
      "execution_count": 3,
      "outputs": [
        {
          "output_type": "execute_result",
          "data": {
            "text/plain": [
              "array([[0., 0., 0.],\n",
              "       [0., 0., 0.]])"
            ]
          },
          "metadata": {
            "tags": []
          },
          "execution_count": 3
        }
      ]
    },
    {
      "cell_type": "markdown",
      "metadata": {
        "id": "2WEYWBonpEgP"
      },
      "source": [
        "행렬이 연산, 숫자의 표현에 있어서 다차원적으로 표현하기 쉬움.\n",
        "\n",
        "np.zeros([2,3]) : 2행 3열의 zero로 가득 찬 행렬을 만들어라."
      ]
    },
    {
      "cell_type": "code",
      "metadata": {
        "colab": {
          "base_uri": "https://localhost:8080/"
        },
        "id": "OMtHRDFWpcFj",
        "outputId": "b70260c6-50f4-4457-e09f-54eadb2c7192"
      },
      "source": [
        "np.arange(0,10,2, dtype='float64')"
      ],
      "execution_count": 5,
      "outputs": [
        {
          "output_type": "execute_result",
          "data": {
            "text/plain": [
              "array([0., 2., 4., 6., 8.])"
            ]
          },
          "metadata": {
            "tags": []
          },
          "execution_count": 5
        }
      ]
    },
    {
      "cell_type": "markdown",
      "metadata": {
        "id": "EU4gPEntpeEj"
      },
      "source": [
        "arange라는 함수가 numpy 안에 있음.\n",
        "\n",
        "arange(0, 10, 2) : 0부터 10 직전까지 2씩 띄어서 숫자를 만들어라.\n",
        "\n",
        "--> 0 2 4 6 8\n",
        "\n",
        "dtype : 데이터의 소숫점을 정할 수 있음."
      ]
    },
    {
      "cell_type": "code",
      "metadata": {
        "colab": {
          "base_uri": "https://localhost:8080/"
        },
        "id": "o3P4vOUPqLdB",
        "outputId": "1f934eca-51bd-4ec9-9c36-bbe6577f102c"
      },
      "source": [
        "np.linspace(0,10,6, dtype=float)"
      ],
      "execution_count": 6,
      "outputs": [
        {
          "output_type": "execute_result",
          "data": {
            "text/plain": [
              "array([ 0.,  2.,  4.,  6.,  8., 10.])"
            ]
          },
          "metadata": {
            "tags": []
          },
          "execution_count": 6
        }
      ]
    },
    {
      "cell_type": "markdown",
      "metadata": {
        "id": "jdSOeiEGqXC-"
      },
      "source": [
        "linspace *정말정말 중요*  : linear space\n",
        "\n",
        "linspace(0, 10, 6) : 0부터 10 \"포함\"값까지 \"등간격\"으로 총 6개를 만들어라.\n"
      ]
    },
    {
      "cell_type": "markdown",
      "metadata": {
        "id": "ggmG_H_uq9Iw"
      },
      "source": [
        "숫자열들을 우리가 \"Vector\"라고 부름.\n",
        "\n",
        "[1 3 5\n",
        "\n",
        "2 4 6 ] --> 2x3 행렬   ... 행렬을 만들어보라는 문제가 나올 수도 있음.\n",
        "\n",
        "[ 0 0 0 ] --> 1x3 행렬 (row vector)\n",
        "\n",
        "[0\n",
        "\n",
        "0\n",
        "\n",
        "0] --> 3x1 행렬 (columm vector)  ... 1x3 행렬과 3x1 행렬을 특별히 \"벡터\"라고 부름."
      ]
    },
    {
      "cell_type": "code",
      "metadata": {
        "colab": {
          "base_uri": "https://localhost:8080/"
        },
        "id": "n5Qa-9vSqNUZ",
        "outputId": "cece83e1-7f85-4fd7-f2e6-0217948ad963"
      },
      "source": [
        "X = np.array([[1,2,3],[4,5,6]])\n",
        "X"
      ],
      "execution_count": 7,
      "outputs": [
        {
          "output_type": "execute_result",
          "data": {
            "text/plain": [
              "array([[1, 2, 3],\n",
              "       [4, 5, 6]])"
            ]
          },
          "metadata": {
            "tags": []
          },
          "execution_count": 7
        }
      ]
    },
    {
      "cell_type": "markdown",
      "metadata": {
        "id": "oosWGrE9ranL"
      },
      "source": [
        "np.array : 행렬을 만들어줌\n",
        "\n",
        "[ ㅇ, ㅇ ] --> 큰 괄호부터 행, 작은 괄호가 열\n",
        "\n",
        "만약 3x2 행렬을 만들고 싶다면 [ [ㅇ,ㅇ], [ㅇ,ㅇ], [ㅇ,ㅇ] ]\n",
        "\n",
        "X가 여기서는 class임. "
      ]
    },
    {
      "cell_type": "code",
      "metadata": {
        "colab": {
          "base_uri": "https://localhost:8080/"
        },
        "id": "oqYJaXezqPvV",
        "outputId": "72d42d4f-8498-4f83-b478-f48835f4552b"
      },
      "source": [
        "X.astype(np.float64)"
      ],
      "execution_count": 8,
      "outputs": [
        {
          "output_type": "execute_result",
          "data": {
            "text/plain": [
              "array([[1., 2., 3.],\n",
              "       [4., 5., 6.]])"
            ]
          },
          "metadata": {
            "tags": []
          },
          "execution_count": 8
        }
      ]
    },
    {
      "cell_type": "markdown",
      "metadata": {
        "id": "gMyMMGfssIY9"
      },
      "source": [
        "X 안에 이미 정의된 astype를 불러옴."
      ]
    },
    {
      "cell_type": "code",
      "metadata": {
        "colab": {
          "base_uri": "https://localhost:8080/"
        },
        "id": "3DPbRdeOqRY4",
        "outputId": "2b24fc46-48f0-4c3c-d643-cb31eef7adaa"
      },
      "source": [
        "np.zeros_like(X)"
      ],
      "execution_count": 9,
      "outputs": [
        {
          "output_type": "execute_result",
          "data": {
            "text/plain": [
              "array([[0, 0, 0],\n",
              "       [0, 0, 0]])"
            ]
          },
          "metadata": {
            "tags": []
          },
          "execution_count": 9
        }
      ]
    },
    {
      "cell_type": "markdown",
      "metadata": {
        "id": "ZHAKq0yFsbv7"
      },
      "source": [
        "위에서 만든 X array를 모두 다 zero로 대체해라.\n",
        "\n",
        "즉, 2x3는 유지한 채, 모든 값을 0으로 대체해라."
      ]
    },
    {
      "cell_type": "code",
      "metadata": {
        "colab": {
          "base_uri": "https://localhost:8080/",
          "height": 585
        },
        "id": "9Ph-gl55qS1t",
        "outputId": "bd6f7143-de9c-4a05-a8e5-d0b2679edcb9"
      },
      "source": [
        "data = np.random.normal(0,1, 100)\n",
        "print(data)\n",
        "plt.hist(data, bins=10)\n",
        "plt.show()"
      ],
      "execution_count": 10,
      "outputs": [
        {
          "output_type": "stream",
          "text": [
            "[-0.0736155  -0.78138262  0.00729881  0.73351718 -1.47464491 -0.11820195\n",
            "  0.4991138  -0.72725719 -1.80839307  0.25828169  0.81397635  0.58897167\n",
            "  0.39445753 -2.13861737  0.5287706  -0.33036024 -0.93381999 -1.07523238\n",
            " -1.90321983  1.48524878  2.16008705  1.12675435 -1.16242956  0.05875283\n",
            "  0.04452497  2.81774789  0.03089257 -0.93721633  0.08838165  0.65462459\n",
            "  0.830038   -0.60634737  0.82319662  1.24395572 -0.07014168 -0.03409557\n",
            " -1.36287089  0.19353045  0.48766119 -0.23849801  0.89895965 -1.09113723\n",
            "  0.78422603 -0.39124771  1.05682982  0.47992755  1.12933078 -1.03659088\n",
            "  2.88523135  0.51345538 -0.11666536  0.1237822   0.87465644  0.21902244\n",
            "  0.04689127 -0.3646748   0.3332702  -1.13656504  0.04355479  0.27806563\n",
            " -0.46816346 -0.16500774  1.59244185 -0.21119676 -0.43788297 -0.02217017\n",
            " -1.36965646 -0.86729433  0.65823575  0.45105762  1.09558328  1.22580151\n",
            " -1.1057887   1.26002513  1.03026097  0.35546285  0.05935011 -0.45103549\n",
            " -2.07508487 -0.47255513 -0.83284334  0.51176403 -0.72669526 -1.05826367\n",
            "  1.06602037 -0.72674201  0.30653284 -0.91532088  1.18566557 -1.35792464\n",
            "  0.61924176 -0.24300442 -0.27214068  0.33591994  1.15767656  1.19849725\n",
            "  1.38760079 -0.74645759  0.58622791 -0.10058085]\n"
          ],
          "name": "stdout"
        },
        {
          "output_type": "display_data",
          "data": {
            "image/png": "[encoded data removed]",
            "text/plain": [
              "<Figure size 432x288 with 1 Axes>"
            ]
          },
          "metadata": {
            "tags": [],
            "needs_background": "light"
          }
        }
      ]
    },
    {
      "cell_type": "markdown",
      "metadata": {
        "id": "xPF1H2uWslyv"
      },
      "source": [
        "np ⊃ random ⊃ normal\n",
        "\n",
        "normal : 정규분포의 형태로 만들어라\n",
        "\n",
        "normal(0, 1, 100) : 0이 평균, 1의 standard deviation(정규분포의 폭), 총 100개의 숫자를 만들어내라.\n",
        "\n",
        "위에 나온 결과값은 [ ] 안에 들어있는 Vector이다. (O)\n",
        "\n",
        "2차원 상의 행렬이 아니라 1차원 상의 벡터임!\n",
        "\n",
        "/ plt 안에 있는 hist를 사용함.\n",
        "\n",
        "hist(data, bins=10) : data를 10개의 통에 나눠서 넣은 histogram을 그려라."
      ]
    },
    {
      "cell_type": "code",
      "metadata": {
        "colab": {
          "base_uri": "https://localhost:8080/",
          "height": 269
        },
        "id": "6p1zs_A9uOwT",
        "outputId": "bbcc89e5-e142-4126-e0db-cd7693c10ad5"
      },
      "source": [
        "data = np.random.normal(0,1, 1000000)\n",
        "#print(data)\n",
        "plt.hist(data, bins=100)\n",
        "plt.show()"
      ],
      "execution_count": 11,
      "outputs": [
        {
          "output_type": "display_data",
          "data": {
            "image/png": "[encoded data removed]",
            "text/plain": [
              "<Figure size 432x288 with 1 Axes>"
            ]
          },
          "metadata": {
            "tags": [],
            "needs_background": "light"
          }
        }
      ]
    },
    {
      "cell_type": "markdown",
      "metadata": {
        "id": "bWdEX7B1uWkV"
      },
      "source": [
        "데이터의 수가 많아지고 bin이 많아질수록 완벽한 정규분포의 형태에 가까워짐."
      ]
    },
    {
      "cell_type": "code",
      "metadata": {
        "colab": {
          "base_uri": "https://localhost:8080/",
          "height": 265
        },
        "id": "t2-0lBRNvPAY",
        "outputId": "880d306e-a4bf-4f42-a032-bfcee1b104d4"
      },
      "source": [
        "data = np.random.normal(0,100, 1000000)\n",
        "#print(data)\n",
        "plt.hist(data, bins=100)\n",
        "plt.show()"
      ],
      "execution_count": 12,
      "outputs": [
        {
          "output_type": "display_data",
          "data": {
            "image/png": "[encoded data removed]",
            "text/plain": [
              "<Figure size 432x288 with 1 Axes>"
            ]
          },
          "metadata": {
            "tags": [],
            "needs_background": "light"
          }
        }
      ]
    },
    {
      "cell_type": "markdown",
      "metadata": {
        "id": "gNYLpdF3vRy0"
      },
      "source": [
        "stadard deviation 이 커질수록 더 그래프가 뚱뚱해짐."
      ]
    },
    {
      "cell_type": "markdown",
      "metadata": {
        "id": "1F8u6nlQrsMQ"
      },
      "source": [
        "## 2. Manipulation"
      ]
    },
    {
      "cell_type": "code",
      "metadata": {
        "colab": {
          "base_uri": "https://localhost:8080/"
        },
        "id": "4XsTuWtMrtWs",
        "outputId": "2e407705-612f-41f0-a9bd-3461196f5766"
      },
      "source": [
        "X = np.ones([2, 3, 4])\n",
        "X"
      ],
      "execution_count": 13,
      "outputs": [
        {
          "output_type": "execute_result",
          "data": {
            "text/plain": [
              "array([[[1., 1., 1., 1.],\n",
              "        [1., 1., 1., 1.],\n",
              "        [1., 1., 1., 1.]],\n",
              "\n",
              "       [[1., 1., 1., 1.],\n",
              "        [1., 1., 1., 1.],\n",
              "        [1., 1., 1., 1.]]])"
            ]
          },
          "metadata": {
            "tags": []
          },
          "execution_count": 13
        }
      ]
    },
    {
      "cell_type": "markdown",
      "metadata": {
        "id": "j3HlZ1XsvXc7"
      },
      "source": [
        "[2,3,4] : 3차원의 행렬\n",
        "\n",
        "np.ones([2, 3, 4]) : 2x3x4의 tensor를 다 1로 채워라. --> Q. 1이 총 몇개인가? A. 2x3x4=24개\n",
        "\n",
        "2x3x4 : [[[1,3,5,7],[2,4,6,8],[9,8,7,6]], [[ㅇ,ㅇ,ㅇ,ㅇ],[ㅇ,ㅇ,ㅇ,ㅇ],[ㅇ,ㅇ,ㅇ,ㅇ]]]\n",
        "\n",
        "가장 큰 바깥쪽 괄호부터 생각하면 됨.\n",
        "\n",
        "vector < matrix < tensor\n",
        "\n",
        "24개의 데이터를 가지고 2x3x4, 4x6x1, 2x2x6, 3x2x4 등의 여러가지로 나타낼 수 있음."
      ]
    },
    {
      "cell_type": "code",
      "metadata": {
        "colab": {
          "base_uri": "https://localhost:8080/"
        },
        "id": "I7UOrRg_vcFn",
        "outputId": "3d5ef057-7ab7-470f-a040-02dd77063c07"
      },
      "source": [
        "Y = X.reshape(-1, 3, 2)\n",
        "Y"
      ],
      "execution_count": 14,
      "outputs": [
        {
          "output_type": "execute_result",
          "data": {
            "text/plain": [
              "array([[[1., 1.],\n",
              "        [1., 1.],\n",
              "        [1., 1.]],\n",
              "\n",
              "       [[1., 1.],\n",
              "        [1., 1.],\n",
              "        [1., 1.]],\n",
              "\n",
              "       [[1., 1.],\n",
              "        [1., 1.],\n",
              "        [1., 1.]],\n",
              "\n",
              "       [[1., 1.],\n",
              "        [1., 1.],\n",
              "        [1., 1.]]])"
            ]
          },
          "metadata": {
            "tags": []
          },
          "execution_count": 14
        }
      ]
    },
    {
      "cell_type": "markdown",
      "metadata": {
        "id": "IshAc6jLwdy-"
      },
      "source": [
        "우리가 위에서 만든 X라는 행렬을 다시 (-1,3,2)의 형태로 reshape함.\n",
        "\n",
        "여기서 -1은 제일 마지막에 구하면 됨.\n",
        "\n",
        "2x3x4 -> -1x2x3  이 경우에 -1은 4와 같게 됨."
      ]
    },
    {
      "cell_type": "code",
      "metadata": {
        "colab": {
          "base_uri": "https://localhost:8080/"
        },
        "id": "qgVWpcWvxcsi",
        "outputId": "b77905cb-7ad7-4666-da24-e7b6639154cb"
      },
      "source": [
        "np.allclose(X.reshape(-1, 3, 2), Y)"
      ],
      "execution_count": 15,
      "outputs": [
        {
          "output_type": "execute_result",
          "data": {
            "text/plain": [
              "True"
            ]
          },
          "metadata": {
            "tags": []
          },
          "execution_count": 15
        }
      ]
    },
    {
      "cell_type": "code",
      "metadata": {
        "id": "_Ffp3s7AvcS_"
      },
      "source": [
        "assert np.allclose(X.reshape(-1, 3, 2), Y)"
      ],
      "execution_count": 16,
      "outputs": []
    },
    {
      "cell_type": "markdown",
      "metadata": {
        "id": "jI5qmIcfxdZZ"
      },
      "source": [
        "위에 2개는 별로 안 중요"
      ]
    },
    {
      "cell_type": "markdown",
      "metadata": {
        "id": "YP0--qi-xplB"
      },
      "source": [
        "##4. Inspecting"
      ]
    },
    {
      "cell_type": "code",
      "metadata": {
        "colab": {
          "base_uri": "https://localhost:8080/"
        },
        "id": "ewa7acp1vcW6",
        "outputId": "a468db0f-367f-4f8a-b60f-d096eacb50f1"
      },
      "source": [
        " arr = np.random.random(100)\n",
        " arr"
      ],
      "execution_count": 18,
      "outputs": [
        {
          "output_type": "execute_result",
          "data": {
            "text/plain": [
              "array([0.7834975 , 0.87587876, 0.40254716, 0.64165776, 0.05117512,\n",
              "       0.35902371, 0.89603939, 0.68131946, 0.12702832, 0.98196677,\n",
              "       0.20663816, 0.04790299, 0.94992266, 0.09246496, 0.44456267,\n",
              "       0.52222704, 0.07163536, 0.60551349, 0.30399697, 0.86404834,\n",
              "       0.70251572, 0.09966163, 0.73846498, 0.68551359, 0.93510905,\n",
              "       0.24120112, 0.82858938, 0.57515118, 0.63317774, 0.54218976,\n",
              "       0.49170502, 0.33613929, 0.32782908, 0.80494387, 0.66834529,\n",
              "       0.00113154, 0.53398346, 0.85082799, 0.43112433, 0.87448922,\n",
              "       0.8326021 , 0.27273264, 0.22178109, 0.38620719, 0.51670502,\n",
              "       0.20176828, 0.02678684, 0.92949008, 0.77031473, 0.0215241 ,\n",
              "       0.88818839, 0.87087411, 0.62458015, 0.93300254, 0.1796634 ,\n",
              "       0.05134665, 0.20132338, 0.00303933, 0.79221989, 0.31337482,\n",
              "       0.19173697, 0.46980432, 0.10320387, 0.17031376, 0.31285169,\n",
              "       0.42957177, 0.55608553, 0.41566007, 0.60190371, 0.97389406,\n",
              "       0.11889131, 0.4300948 , 0.59986281, 0.26633905, 0.33034535,\n",
              "       0.47669728, 0.84952362, 0.65758859, 0.40143857, 0.17945125,\n",
              "       0.9291185 , 0.60047054, 0.61451393, 0.29947269, 0.42571076,\n",
              "       0.21315395, 0.48499842, 0.17802542, 0.3794444 , 0.07707544,\n",
              "       0.72458639, 0.13137032, 0.86809628, 0.35277258, 0.12143198,\n",
              "       0.97815919, 0.20021172, 0.29085404, 0.20763201, 0.87996653])"
            ]
          },
          "metadata": {
            "tags": []
          },
          "execution_count": 18
        }
      ]
    },
    {
      "cell_type": "markdown",
      "metadata": {
        "id": "l0o9AloMx_o9"
      },
      "source": [
        "나온 값들이 다 0~1 사이에 랜덤한 값들임."
      ]
    },
    {
      "cell_type": "code",
      "metadata": {
        "colab": {
          "base_uri": "https://localhost:8080/"
        },
        "id": "VUE7ttrKxqjm",
        "outputId": "2393c7b7-56eb-428f-aacb-d8dd1364f426"
      },
      "source": [
        "arr = np.random.random([5,2,3])\n",
        "arr"
      ],
      "execution_count": 19,
      "outputs": [
        {
          "output_type": "execute_result",
          "data": {
            "text/plain": [
              "array([[[4.02120041e-01, 5.95094775e-01, 9.99111248e-01],\n",
              "        [5.10977041e-01, 1.28399352e-01, 7.21290216e-01]],\n",
              "\n",
              "       [[8.36754113e-01, 3.03740977e-01, 4.20961471e-01],\n",
              "        [7.75273170e-01, 3.19049404e-01, 3.71387088e-01]],\n",
              "\n",
              "       [[3.34304041e-01, 9.55305198e-01, 4.15279384e-01],\n",
              "        [1.23826343e-02, 3.72636280e-01, 4.75668442e-01]],\n",
              "\n",
              "       [[3.38534128e-02, 6.95328574e-04, 4.46097591e-01],\n",
              "        [3.00509830e-01, 5.13164467e-01, 6.70574743e-01]],\n",
              "\n",
              "       [[8.12828716e-01, 1.67223666e-01, 6.03571992e-02],\n",
              "        [2.87309421e-01, 1.00375936e-01, 9.44688087e-01]]])"
            ]
          },
          "metadata": {
            "tags": []
          },
          "execution_count": 19
        }
      ]
    },
    {
      "cell_type": "markdown",
      "metadata": {
        "id": "VqgSTov9xswd"
      },
      "source": [
        "random.normal이 아니라 random.random\n",
        "\n",
        "[5,2,3]의 random한 값들을 출력해라.\n",
        "\n",
        "대괄호가 [[[ 세개 있으니까 3차원임을 알 수 있음."
      ]
    },
    {
      "cell_type": "code",
      "metadata": {
        "colab": {
          "base_uri": "https://localhost:8080/"
        },
        "id": "ORioQCiHyWco",
        "outputId": "279a6c2c-682e-4ab1-8704-7358dffd6afc"
      },
      "source": [
        "a= 1\n",
        "print(type(a))"
      ],
      "execution_count": 21,
      "outputs": [
        {
          "output_type": "stream",
          "text": [
            "<class 'int'>\n"
          ],
          "name": "stdout"
        }
      ]
    },
    {
      "cell_type": "code",
      "metadata": {
        "colab": {
          "base_uri": "https://localhost:8080/",
          "height": 55
        },
        "id": "iszG1IdYyd_T",
        "outputId": "19dec175-b7c7-476f-a181-54865fecd143"
      },
      "source": [
        "str = 'TEST'\n",
        "print(type(str))\n",
        "str.lower()"
      ],
      "execution_count": 23,
      "outputs": [
        {
          "output_type": "stream",
          "text": [
            "<class 'str'>\n"
          ],
          "name": "stdout"
        },
        {
          "output_type": "execute_result",
          "data": {
            "application/vnd.google.colaboratory.intrinsic+json": {
              "type": "string"
            },
            "text/plain": [
              "'test'"
            ]
          },
          "metadata": {
            "tags": []
          },
          "execution_count": 23
        }
      ]
    },
    {
      "cell_type": "markdown",
      "metadata": {
        "id": "6Z5Ak7CGybad"
      },
      "source": [
        "웬만한 변수들은 다 class라고 생각하면 됨.\n",
        "\n",
        "class는 그 안에 속해있는 함수들을 정의하기 위해서 class로 묶어둔 것.\n",
        "\n",
        "우리가 str.lower 이런 식으로 .을 찍어서 사용할 수 있는 것도 class이기 때문임."
      ]
    },
    {
      "cell_type": "code",
      "metadata": {
        "colab": {
          "base_uri": "https://localhost:8080/"
        },
        "id": "EkNs3x9py5e4",
        "outputId": "173b1fe7-af68-4eb4-8bfd-910e61460113"
      },
      "source": [
        "a = ['1', 3, 'test']\n",
        "len(a)"
      ],
      "execution_count": 24,
      "outputs": [
        {
          "output_type": "execute_result",
          "data": {
            "text/plain": [
              "3"
            ]
          },
          "metadata": {
            "tags": []
          },
          "execution_count": 24
        }
      ]
    },
    {
      "cell_type": "code",
      "metadata": {
        "colab": {
          "base_uri": "https://localhost:8080/"
        },
        "id": "S6LFRsZpyOvm",
        "outputId": "b9694fed-cc1e-40f1-944f-461e3a77366a"
      },
      "source": [
        "print(type(arr))\n",
        "print(len(arr))\n",
        "print(arr.shape)\n",
        "print(arr.ndim)\n",
        "print(arr.size)\n",
        "print(arr.dtype)"
      ],
      "execution_count": 20,
      "outputs": [
        {
          "output_type": "stream",
          "text": [
            "<class 'numpy.ndarray'>\n",
            "5\n",
            "(5, 2, 3)\n",
            "3\n",
            "30\n",
            "float64\n"
          ],
          "name": "stdout"
        }
      ]
    },
    {
      "cell_type": "markdown",
      "metadata": {
        "id": "j_gDxnFay2N0"
      },
      "source": [
        "[5,2,3]의 len을 알아보려고 할 때, arr의 가장 큰 것 기준으로 5개라고 말하면 됨.\n",
        "\n",
        "arr.shape : 형태를 알고싶을 때\n",
        "\n",
        "arr.ndim : 몇 차원인지 알고싶을 때\n",
        "\n",
        "arr.size : 안에 속해있는 element의 총 개수\n",
        "\n",
        "dtype : 데이터의 타입을 알려줌"
      ]
    },
    {
      "cell_type": "markdown",
      "metadata": {
        "id": "CnfRT_7XzppB"
      },
      "source": [
        "#5. Operations"
      ]
    },
    {
      "cell_type": "markdown",
      "metadata": {
        "id": "5XQ0JYLeztMW"
      },
      "source": [
        "### 5.1 Arithmetic"
      ]
    },
    {
      "cell_type": "code",
      "metadata": {
        "colab": {
          "base_uri": "https://localhost:8080/"
        },
        "id": "UWM9qSKezvGM",
        "outputId": "d4b2cd7b-8f68-4c98-c811-7448e70437bb"
      },
      "source": [
        "a = np.arange(1, 5)\n",
        "b = np.arange(9, 5, -1)\n",
        "print(a)\n",
        "print(b)"
      ],
      "execution_count": 26,
      "outputs": [
        {
          "output_type": "stream",
          "text": [
            "[1 2 3 4]\n",
            "[9 8 7 6]\n"
          ],
          "name": "stdout"
        }
      ]
    },
    {
      "cell_type": "code",
      "metadata": {
        "colab": {
          "base_uri": "https://localhost:8080/"
        },
        "id": "NKumyPzzz1qQ",
        "outputId": "6b77d43f-1ef2-405d-e37d-2358f98e280b"
      },
      "source": [
        "print(a - b)\n",
        "print(a * b)"
      ],
      "execution_count": 27,
      "outputs": [
        {
          "output_type": "stream",
          "text": [
            "[-8 -6 -4 -2]\n",
            "[ 9 16 21 24]\n"
          ],
          "name": "stdout"
        }
      ]
    },
    {
      "cell_type": "markdown",
      "metadata": {
        "id": "C6EZCxNN0Y45"
      },
      "source": [
        "원래, 차원이 다른 행렬끼리 곱하는 것은 행렬의 원칙에 벗어남.\n",
        "\n",
        "즉, 행렬의 형태를 띄고 있지만 진정한 행렬은 아님."
      ]
    },
    {
      "cell_type": "code",
      "metadata": {
        "id": "pods8Z3q0wYm"
      },
      "source": [
        "a = np.matrix(a)\n",
        "b = np.matrix(b)"
      ],
      "execution_count": 30,
      "outputs": []
    },
    {
      "cell_type": "markdown",
      "metadata": {
        "id": "HVLozYXX01A3"
      },
      "source": [
        "가짜 matrix인 a,b를 진짜 matrix로 만들어냄."
      ]
    },
    {
      "cell_type": "code",
      "metadata": {
        "colab": {
          "base_uri": "https://localhost:8080/"
        },
        "id": "pMGL_ZLm04i3",
        "outputId": "5f081b9b-7bdc-4795-e076-ed2e50e8b743"
      },
      "source": [
        "a * b.T"
      ],
      "execution_count": 31,
      "outputs": [
        {
          "output_type": "execute_result",
          "data": {
            "text/plain": [
              "matrix([[70]])"
            ]
          },
          "metadata": {
            "tags": []
          },
          "execution_count": 31
        }
      ]
    },
    {
      "cell_type": "markdown",
      "metadata": {
        "id": "PxlwdEwS1J8W"
      },
      "source": [
        "T : traspose 해줌.\n",
        "\n",
        "1x4 의 행렬을 4x1 로 바꿔줌.\n",
        "\n",
        "b.T : b의 행렬을 트랜스포즈 해줌.\n",
        "\n",
        "따라서 1x4 X 4x1 이 되어서 진정한 행렬의 곱이 가능해짐.\n",
        "\n",
        "..................[9\n",
        "\n",
        "[1, 2, 3, 4] ......8\n",
        "\n",
        "                   7\n",
        "\n",
        "                   6]\n",
        "\n",
        "다 곱해서 더하면 됨. 9+16+21+24=70"
      ]
    },
    {
      "cell_type": "code",
      "metadata": {
        "colab": {
          "base_uri": "https://localhost:8080/"
        },
        "id": "lpET_C7D1s8Y",
        "outputId": "63914860-f418-4c9e-f362-7dc4c06f911a"
      },
      "source": [
        "a.T * b"
      ],
      "execution_count": 32,
      "outputs": [
        {
          "output_type": "execute_result",
          "data": {
            "text/plain": [
              "matrix([[ 9,  8,  7,  6],\n",
              "        [18, 16, 14, 12],\n",
              "        [27, 24, 21, 18],\n",
              "        [36, 32, 28, 24]])"
            ]
          },
          "metadata": {
            "tags": []
          },
          "execution_count": 32
        }
      ]
    },
    {
      "cell_type": "markdown",
      "metadata": {
        "id": "wmZWuD9x1vzy"
      },
      "source": [
        "###5.2 Comparison"
      ]
    },
    {
      "cell_type": "code",
      "metadata": {
        "colab": {
          "base_uri": "https://localhost:8080/"
        },
        "id": "_aNiQiH01w4e",
        "outputId": "b59326a0-c4c7-4b8c-fe93-de6234841971"
      },
      "source": [
        "a = np.arange(1, 10).reshape(3,3)\n",
        "b = np.arange(9, 0, -1).reshape(3,3)\n",
        "print(a)\n",
        "print(b)"
      ],
      "execution_count": 41,
      "outputs": [
        {
          "output_type": "stream",
          "text": [
            "[[1 2 3]\n",
            " [4 5 6]\n",
            " [7 8 9]]\n",
            "[[9 8 7]\n",
            " [6 5 4]\n",
            " [3 2 1]]\n"
          ],
          "name": "stdout"
        }
      ]
    },
    {
      "cell_type": "code",
      "metadata": {
        "colab": {
          "base_uri": "https://localhost:8080/"
        },
        "id": "hTN8zvHR10Tc",
        "outputId": "2a72fb10-9e0b-494f-d37f-c7b2de44848f"
      },
      "source": [
        "a == b"
      ],
      "execution_count": 34,
      "outputs": [
        {
          "output_type": "execute_result",
          "data": {
            "text/plain": [
              "array([[False, False, False],\n",
              "       [False,  True, False],\n",
              "       [False, False, False]])"
            ]
          },
          "metadata": {
            "tags": []
          },
          "execution_count": 34
        }
      ]
    },
    {
      "cell_type": "code",
      "metadata": {
        "colab": {
          "base_uri": "https://localhost:8080/"
        },
        "id": "zWZre34K10ls",
        "outputId": "a3d94289-b3bd-4f4c-9a50-807d6e4ba2af"
      },
      "source": [
        "a > b"
      ],
      "execution_count": 35,
      "outputs": [
        {
          "output_type": "execute_result",
          "data": {
            "text/plain": [
              "array([[False, False, False],\n",
              "       [False, False,  True],\n",
              "       [ True,  True,  True]])"
            ]
          },
          "metadata": {
            "tags": []
          },
          "execution_count": 35
        }
      ]
    },
    {
      "cell_type": "markdown",
      "metadata": {
        "id": "Lnx_ZfpC2Cau"
      },
      "source": [
        "###5.3 Aggregate (sum, min, max, mean, median, std)"
      ]
    },
    {
      "cell_type": "code",
      "metadata": {
        "colab": {
          "base_uri": "https://localhost:8080/"
        },
        "id": "YfRyeGlh2Dn8",
        "outputId": "7926a089-ba7b-4c91-dd59-a5da19e59f8e"
      },
      "source": [
        "a.sum(), np.sum(a)"
      ],
      "execution_count": 42,
      "outputs": [
        {
          "output_type": "execute_result",
          "data": {
            "text/plain": [
              "(45, 45)"
            ]
          },
          "metadata": {
            "tags": []
          },
          "execution_count": 42
        }
      ]
    },
    {
      "cell_type": "code",
      "metadata": {
        "colab": {
          "base_uri": "https://localhost:8080/"
        },
        "id": "HNza3PTn2G5o",
        "outputId": "4c2e96a6-cddd-4782-f51f-e63c39fb7153"
      },
      "source": [
        "a.sum(axis=0), np.sum(a, axis=0)"
      ],
      "execution_count": 43,
      "outputs": [
        {
          "output_type": "execute_result",
          "data": {
            "text/plain": [
              "(array([12, 15, 18]), array([12, 15, 18]))"
            ]
          },
          "metadata": {
            "tags": []
          },
          "execution_count": 43
        }
      ]
    },
    {
      "cell_type": "code",
      "metadata": {
        "colab": {
          "base_uri": "https://localhost:8080/"
        },
        "id": "uZ6hKf502H4k",
        "outputId": "e81f9790-5a62-4572-b83e-d16076c1faef"
      },
      "source": [
        "a.sum(axis=1), np.sum(a, axis=1)"
      ],
      "execution_count": 44,
      "outputs": [
        {
          "output_type": "execute_result",
          "data": {
            "text/plain": [
              "(array([ 6, 15, 24]), array([ 6, 15, 24]))"
            ]
          },
          "metadata": {
            "tags": []
          },
          "execution_count": 44
        }
      ]
    },
    {
      "cell_type": "markdown",
      "metadata": {
        "id": "F5DSLMHq15R3"
      },
      "source": [
        "## Broadcasting"
      ]
    },
    {
      "cell_type": "code",
      "metadata": {
        "colab": {
          "base_uri": "https://localhost:8080/"
        },
        "id": "Fcawi9iM12sJ",
        "outputId": "e94514da-3253-4cf1-f10a-2dcc00a78337"
      },
      "source": [
        "a = np.arange(1, 25).reshape(4, 6)\n",
        "a"
      ],
      "execution_count": 45,
      "outputs": [
        {
          "output_type": "execute_result",
          "data": {
            "text/plain": [
              "array([[ 1,  2,  3,  4,  5,  6],\n",
              "       [ 7,  8,  9, 10, 11, 12],\n",
              "       [13, 14, 15, 16, 17, 18],\n",
              "       [19, 20, 21, 22, 23, 24]])"
            ]
          },
          "metadata": {
            "tags": []
          },
          "execution_count": 45
        }
      ]
    },
    {
      "cell_type": "code",
      "metadata": {
        "colab": {
          "base_uri": "https://localhost:8080/"
        },
        "id": "I1kkIuaC19C0",
        "outputId": "2f73a921-9e70-4a34-9d17-5f172c03ed53"
      },
      "source": [
        "a + 100"
      ],
      "execution_count": 46,
      "outputs": [
        {
          "output_type": "execute_result",
          "data": {
            "text/plain": [
              "array([[101, 102, 103, 104, 105, 106],\n",
              "       [107, 108, 109, 110, 111, 112],\n",
              "       [113, 114, 115, 116, 117, 118],\n",
              "       [119, 120, 121, 122, 123, 124]])"
            ]
          },
          "metadata": {
            "tags": []
          },
          "execution_count": 46
        }
      ]
    },
    {
      "cell_type": "code",
      "metadata": {
        "colab": {
          "base_uri": "https://localhost:8080/"
        },
        "id": "TXvWkeFp1_VZ",
        "outputId": "f479da57-d3ad-4140-ebbb-e32bd3124856"
      },
      "source": [
        "b = np.arange(6)\n",
        "b"
      ],
      "execution_count": 47,
      "outputs": [
        {
          "output_type": "execute_result",
          "data": {
            "text/plain": [
              "array([0, 1, 2, 3, 4, 5])"
            ]
          },
          "metadata": {
            "tags": []
          },
          "execution_count": 47
        }
      ]
    },
    {
      "cell_type": "code",
      "metadata": {
        "colab": {
          "base_uri": "https://localhost:8080/"
        },
        "id": "Fg9uY1XF2ZTn",
        "outputId": "2b31400f-cf04-4afe-c846-ebd7d00bb00a"
      },
      "source": [
        "a + b"
      ],
      "execution_count": 48,
      "outputs": [
        {
          "output_type": "execute_result",
          "data": {
            "text/plain": [
              "array([[ 1,  3,  5,  7,  9, 11],\n",
              "       [ 7,  9, 11, 13, 15, 17],\n",
              "       [13, 15, 17, 19, 21, 23],\n",
              "       [19, 21, 23, 25, 27, 29]])"
            ]
          },
          "metadata": {
            "tags": []
          },
          "execution_count": 48
        }
      ]
    },
    {
      "cell_type": "code",
      "metadata": {
        "colab": {
          "base_uri": "https://localhost:8080/"
        },
        "id": "qNA1JXK92bjf",
        "outputId": "dd12f05d-03e4-4e44-ea58-1cdebbdcceb8"
      },
      "source": [
        "c = np.arange(4).reshape([4,1])\n",
        "c"
      ],
      "execution_count": 49,
      "outputs": [
        {
          "output_type": "execute_result",
          "data": {
            "text/plain": [
              "array([[0],\n",
              "       [1],\n",
              "       [2],\n",
              "       [3]])"
            ]
          },
          "metadata": {
            "tags": []
          },
          "execution_count": 49
        }
      ]
    },
    {
      "cell_type": "code",
      "metadata": {
        "colab": {
          "base_uri": "https://localhost:8080/"
        },
        "id": "kK5QziWu2doc",
        "outputId": "5ab53f95-602b-443b-8361-a6a4da0d2d0d"
      },
      "source": [
        "a + c"
      ],
      "execution_count": 50,
      "outputs": [
        {
          "output_type": "execute_result",
          "data": {
            "text/plain": [
              "array([[ 1,  2,  3,  4,  5,  6],\n",
              "       [ 8,  9, 10, 11, 12, 13],\n",
              "       [15, 16, 17, 18, 19, 20],\n",
              "       [22, 23, 24, 25, 26, 27]])"
            ]
          },
          "metadata": {
            "tags": []
          },
          "execution_count": 50
        }
      ]
    }
  ]
}