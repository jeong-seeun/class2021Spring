{
  "nbformat": 4,
  "nbformat_minor": 0,
  "metadata": {
    "colab": {
      "name": "20210331.ipynb",
      "provenance": [],
      "authorship_tag": "ABX9TyME+RqpDO89+MkfhjnEq6Oz",
      "include_colab_link": true
    },
    "kernelspec": {
      "name": "python3",
      "display_name": "Python 3"
    },
    "language_info": {
      "name": "python"
    }
  },
  "cells": [
    {
      "cell_type": "markdown",
      "metadata": {
        "id": "view-in-github",
        "colab_type": "text"
      },
      "source": [
        "<a href=\"https://colab.research.google.com/github/jeong-seeun/class2021Spring/blob/main/20210331.ipynb\" target=\"_parent\"><img src=\"https://colab.research.google.com/assets/colab-badge.svg\" alt=\"Open In Colab\"/></a>"
      ]
    },
    {
      "cell_type": "markdown",
      "metadata": {
        "id": "abFx0W12338s"
      },
      "source": [
        "# /a/\n",
        "\n",
        "pitch / intensity / formant / duration\n",
        "\n",
        "210Hz / 64.45dB / 1st formant:1021Hz, 2nd formant:1532Hz / 0.38sec\n",
        "\n",
        "# /e/\n",
        "\n",
        "pitch / intensity / formant / duration\n",
        "\n",
        "213.8Hz / 62.96dB / 1st formant:655Hz, 2nd formant:1996Hz / 0.35sec"
      ]
    }
  ]
}