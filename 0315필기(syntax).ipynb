{
  "nbformat": 4,
  "nbformat_minor": 0,
  "metadata": {
    "colab": {
      "name": "0315필기(syntax).ipynb",
      "provenance": [],
      "authorship_tag": "ABX9TyPeLAZcVnz7S3lR3dKpVA7B",
      "include_colab_link": true
    },
    "kernelspec": {
      "name": "python3",
      "display_name": "Python 3"
    }
  },
  "cells": [
    {
      "cell_type": "markdown",
      "metadata": {
        "id": "view-in-github",
        "colab_type": "text"
      },
      "source": [
        "<a href=\"https://colab.research.google.com/github/jeong-seeun/class2021Spring/blob/main/0315%ED%95%84%EA%B8%B0(syntax).ipynb\" target=\"_parent\"><img src=\"https://colab.research.google.com/assets/colab-badge.svg\" alt=\"Open In Colab\"/></a>"
      ]
    },
    {
      "cell_type": "code",
      "metadata": {
        "colab": {
          "base_uri": "https://localhost:8080/"
        },
        "id": "bl2JvfLCekwV",
        "outputId": "d3d99180-ed13-40b5-cd61-7d848bd56412"
      },
      "source": [
        "a = [1, 2, 3, 4]\r\n",
        "for i in a:\r\n",
        "    print(i)"
      ],
      "execution_count": 1,
      "outputs": [
        {
          "output_type": "stream",
          "text": [
            "1\n",
            "2\n",
            "3\n",
            "4\n"
          ],
          "name": "stdout"
        }
      ]
    },
    {
      "cell_type": "markdown",
      "metadata": {
        "id": "V4akWgddewnU"
      },
      "source": [
        "a가 i에 들어가는데, 첫번째 것부터 마지막 것까지 출력함.\r\n",
        "\r\n",
        "for : 여러번 반복하게 해줌\r\n",
        "\r\n"
      ]
    },
    {
      "cell_type": "code",
      "metadata": {
        "colab": {
          "base_uri": "https://localhost:8080/"
        },
        "id": "3d_Y91bZfBkV",
        "outputId": "9bfa549d-3dbb-40ac-8333-0af714798cf7"
      },
      "source": [
        "for i in range(3) :\r\n",
        "   print(i)"
      ],
      "execution_count": 3,
      "outputs": [
        {
          "output_type": "stream",
          "text": [
            "0\n",
            "1\n",
            "2\n"
          ],
          "name": "stdout"
        }
      ]
    },
    {
      "cell_type": "markdown",
      "metadata": {
        "id": "8uRtI0gUfOsY"
      },
      "source": [
        "내가 어떤 특정한 list가 없는데, 숫자의 범위를 가지고 한바퀴를 돌고싶다.\r\n",
        "\r\n",
        "range(3)이라는 것은 0,1,2를 만들어서 그것을 i에 집어넣음.\r\n",
        "\r\n",
        "차례로 i를 출력하면 0, 1, 2가 나오게 됨."
      ]
    },
    {
      "cell_type": "code",
      "metadata": {
        "colab": {
          "base_uri": "https://localhost:8080/"
        },
        "id": "tV-0oi35fG61",
        "outputId": "d2d45da7-217f-4e02-e0ff-a33157db05ef"
      },
      "source": [
        "a = [1, 2, 3, 4]\r\n",
        "for i in range(len(a)):\r\n",
        "    print(a[i])"
      ],
      "execution_count": 4,
      "outputs": [
        {
          "output_type": "stream",
          "text": [
            "1\n",
            "2\n",
            "3\n",
            "4\n"
          ],
          "name": "stdout"
        }
      ]
    },
    {
      "cell_type": "markdown",
      "metadata": {
        "id": "C_3y9XbifnHm"
      },
      "source": [
        "len(a) : 0,1,2,3이 만들어짐\r\n",
        "\r\n",
        "print(a[i]) : a 안에 있는 것들을 첫번째부터 마지막거까지 출력함."
      ]
    },
    {
      "cell_type": "code",
      "metadata": {
        "colab": {
          "base_uri": "https://localhost:8080/"
        },
        "id": "sNe77ACzf5s9",
        "outputId": "cf91d14f-2a49-4056-e6d1-98ba75eaf956"
      },
      "source": [
        "a = ['red', 'green', 'blue', 'purple']\r\n",
        "for i in a:\r\n",
        "    print(i)"
      ],
      "execution_count": 5,
      "outputs": [
        {
          "output_type": "stream",
          "text": [
            "red\n",
            "green\n",
            "blue\n",
            "purple\n"
          ],
          "name": "stdout"
        }
      ]
    },
    {
      "cell_type": "code",
      "metadata": {
        "colab": {
          "base_uri": "https://localhost:8080/"
        },
        "id": "BnoxuC2Ffl3V",
        "outputId": "8bf8a007-7120-4f6d-8aaf-4514cb0b5aaa"
      },
      "source": [
        "a = ['red', 'green', 'blue', 'purple']\r\n",
        "for i in range(len(a)):\r\n",
        "    print(a[i])"
      ],
      "execution_count": 6,
      "outputs": [
        {
          "output_type": "stream",
          "text": [
            "red\n",
            "green\n",
            "blue\n",
            "purple\n"
          ],
          "name": "stdout"
        }
      ]
    },
    {
      "cell_type": "code",
      "metadata": {
        "id": "Luko1QVFf8l4"
      },
      "source": [
        ""
      ],
      "execution_count": null,
      "outputs": []
    }
  ]
}