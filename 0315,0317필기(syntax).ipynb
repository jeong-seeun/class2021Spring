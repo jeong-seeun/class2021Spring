{
  "nbformat": 4,
  "nbformat_minor": 0,
  "metadata": {
    "colab": {
      "name": "0315필기(syntax).ipynb",
      "provenance": [],
      "authorship_tag": "ABX9TyMEtIdcvEUE9jUfqHhVuxtk",
      "include_colab_link": true
    },
    "kernelspec": {
      "name": "python3",
      "display_name": "Python 3"
    }
  },
  "cells": [
    {
      "cell_type": "markdown",
      "metadata": {
        "id": "view-in-github",
        "colab_type": "text"
      },
      "source": [
        "<a href=\"https://colab.research.google.com/github/jeong-seeun/class2021Spring/blob/main/0315%2C0317%ED%95%84%EA%B8%B0(syntax).ipynb\" target=\"_parent\"><img src=\"https://colab.research.google.com/assets/colab-badge.svg\" alt=\"Open In Colab\"/></a>"
      ]
    },
    {
      "cell_type": "code",
      "metadata": {
        "colab": {
          "base_uri": "https://localhost:8080/"
        },
        "id": "bl2JvfLCekwV",
        "outputId": "d3d99180-ed13-40b5-cd61-7d848bd56412"
      },
      "source": [
        "a = [1, 2, 3, 4]\r\n",
        "for i in a:\r\n",
        "    print(i)"
      ],
      "execution_count": null,
      "outputs": [
        {
          "output_type": "stream",
          "text": [
            "1\n",
            "2\n",
            "3\n",
            "4\n"
          ],
          "name": "stdout"
        }
      ]
    },
    {
      "cell_type": "markdown",
      "metadata": {
        "id": "V4akWgddewnU"
      },
      "source": [
        "a가 i에 들어가는데, 첫번째 것부터 마지막 것까지 출력함.\r\n",
        "\r\n",
        "for : 여러번 반복하게 해줌\r\n",
        "\r\n",
        "Q. for가 루프를 몇번 도는가? 4번\r\n"
      ]
    },
    {
      "cell_type": "code",
      "metadata": {
        "colab": {
          "base_uri": "https://localhost:8080/"
        },
        "id": "3d_Y91bZfBkV",
        "outputId": "9bfa549d-3dbb-40ac-8333-0af714798cf7"
      },
      "source": [
        "for i in range(3) :\r\n",
        "   print(i)"
      ],
      "execution_count": null,
      "outputs": [
        {
          "output_type": "stream",
          "text": [
            "0\n",
            "1\n",
            "2\n"
          ],
          "name": "stdout"
        }
      ]
    },
    {
      "cell_type": "markdown",
      "metadata": {
        "id": "8uRtI0gUfOsY"
      },
      "source": [
        "내가 어떤 특정한 list가 없는데, 숫자의 범위를 가지고 한바퀴를 돌고싶다.\r\n",
        "\r\n",
        "range(3)이라는 것은 0,1,2를 만들어서 그것을 i에 집어넣음.\r\n",
        "\r\n",
        "차례로 i를 출력하면 0, 1, 2가 나오게 됨."
      ]
    },
    {
      "cell_type": "code",
      "metadata": {
        "colab": {
          "base_uri": "https://localhost:8080/"
        },
        "id": "tV-0oi35fG61",
        "outputId": "d2d45da7-217f-4e02-e0ff-a33157db05ef"
      },
      "source": [
        "a = [1, 2, 3, 4]\r\n",
        "for i in range(len(a)):\r\n",
        "    print(a[i])"
      ],
      "execution_count": null,
      "outputs": [
        {
          "output_type": "stream",
          "text": [
            "1\n",
            "2\n",
            "3\n",
            "4\n"
          ],
          "name": "stdout"
        }
      ]
    },
    {
      "cell_type": "markdown",
      "metadata": {
        "id": "C_3y9XbifnHm"
      },
      "source": [
        "len(a) : 0,1,2,3이 만들어짐\r\n",
        "\r\n",
        "print(a[i]) : a 안에 있는 것들을 첫번째부터 마지막거까지 출력함.\r\n",
        "\r\n",
        "range(len(a))=range(4) = 0,1,2,3이 i에 차례로 들어간 것과 같음\r\n",
        "\r\n",
        "따라서 a[0], a[1], a[2], a[3]이 차례로 print됨.\r\n",
        "\r\n",
        "만약, for i in range(3) -> index를 0 1 2 이렇게 세개를 만들어줌. 즉 리스트로 [0, 1, 2] 만들어주는 것과 동일함"
      ]
    },
    {
      "cell_type": "code",
      "metadata": {
        "id": "K2s4vAjcnjkt",
        "outputId": "fa7e3966-a9f7-483b-d6e9-302356345c98",
        "colab": {
          "base_uri": "https://localhost:8080/"
        }
      },
      "source": [
        "a = [1, 2, 3, 4]\r\n",
        "for i in range(0,4):\r\n",
        "  print(a[i])"
      ],
      "execution_count": 4,
      "outputs": [
        {
          "output_type": "stream",
          "text": [
            "1\n",
            "2\n",
            "3\n",
            "4\n"
          ],
          "name": "stdout"
        }
      ]
    },
    {
      "cell_type": "code",
      "metadata": {
        "id": "t-CHkZZboF4z",
        "outputId": "b10bfd4c-301b-428b-8829-bb990282fce7",
        "colab": {
          "base_uri": "https://localhost:8080/"
        }
      },
      "source": [
        "a = [1, 2, 3, 4]\r\n",
        "for i in range(1,4):\r\n",
        "  print(a[i])"
      ],
      "execution_count": 3,
      "outputs": [
        {
          "output_type": "stream",
          "text": [
            "2\n",
            "3\n",
            "4\n"
          ],
          "name": "stdout"
        }
      ]
    },
    {
      "cell_type": "markdown",
      "metadata": {
        "id": "N4Jwb6D7nrGy"
      },
      "source": [
        "range(0,4) 는 0부터 4의 이전까지 만들라는 뜻. 즉 0,1,2,3이 만들어짐\r\n",
        "\r\n",
        "range(1,4)는 1부터 3까지 만들라는 뜻. 즉 1,2,3이 만들어짐"
      ]
    },
    {
      "cell_type": "code",
      "metadata": {
        "id": "FwmpEUl_oJCD",
        "outputId": "9d4cf871-d833-49b7-8892-67ecc80b4619",
        "colab": {
          "base_uri": "https://localhost:8080/",
          "height": 269
        }
      },
      "source": [
        "a = [1, 2, 3, 4]\r\n",
        "for i in range(1,5):\r\n",
        "  print(a[i])"
      ],
      "execution_count": 5,
      "outputs": [
        {
          "output_type": "stream",
          "text": [
            "2\n",
            "3\n",
            "4\n"
          ],
          "name": "stdout"
        },
        {
          "output_type": "error",
          "ename": "IndexError",
          "evalue": "ignored",
          "traceback": [
            "\u001b[0;31m---------------------------------------------------------------------------\u001b[0m",
            "\u001b[0;31mIndexError\u001b[0m                                Traceback (most recent call last)",
            "\u001b[0;32m<ipython-input-5-3312c0f93141>\u001b[0m in \u001b[0;36m<module>\u001b[0;34m()\u001b[0m\n\u001b[1;32m      1\u001b[0m \u001b[0ma\u001b[0m \u001b[0;34m=\u001b[0m \u001b[0;34m[\u001b[0m\u001b[0;36m1\u001b[0m\u001b[0;34m,\u001b[0m \u001b[0;36m2\u001b[0m\u001b[0;34m,\u001b[0m \u001b[0;36m3\u001b[0m\u001b[0;34m,\u001b[0m \u001b[0;36m4\u001b[0m\u001b[0;34m]\u001b[0m\u001b[0;34m\u001b[0m\u001b[0;34m\u001b[0m\u001b[0m\n\u001b[1;32m      2\u001b[0m \u001b[0;32mfor\u001b[0m \u001b[0mi\u001b[0m \u001b[0;32min\u001b[0m \u001b[0mrange\u001b[0m\u001b[0;34m(\u001b[0m\u001b[0;36m1\u001b[0m\u001b[0;34m,\u001b[0m\u001b[0;36m5\u001b[0m\u001b[0;34m)\u001b[0m\u001b[0;34m:\u001b[0m\u001b[0;34m\u001b[0m\u001b[0;34m\u001b[0m\u001b[0m\n\u001b[0;32m----> 3\u001b[0;31m   \u001b[0mprint\u001b[0m\u001b[0;34m(\u001b[0m\u001b[0ma\u001b[0m\u001b[0;34m[\u001b[0m\u001b[0mi\u001b[0m\u001b[0;34m]\u001b[0m\u001b[0;34m)\u001b[0m\u001b[0;34m\u001b[0m\u001b[0;34m\u001b[0m\u001b[0m\n\u001b[0m",
            "\u001b[0;31mIndexError\u001b[0m: list index out of range"
          ]
        }
      ]
    },
    {
      "cell_type": "markdown",
      "metadata": {
        "id": "iWIrkCpEoN7Z"
      },
      "source": [
        "range(1,5)는 error message가 나옴.\r\n",
        "\r\n",
        "range(1,5)는 1, 2, 3, 4까지 만들어지는데, a[4]는 존재하지 않아서 print가 불가능하기 때문"
      ]
    },
    {
      "cell_type": "code",
      "metadata": {
        "id": "KNjcnrnAoMCh",
        "outputId": "05a72770-a7e4-4bd2-ad49-0f66ceebe55d",
        "colab": {
          "base_uri": "https://localhost:8080/"
        }
      },
      "source": [
        "a = [1, 2, 3, 4]\r\n",
        "for i in range(0,4,2):\r\n",
        "  print(a[i])"
      ],
      "execution_count": 6,
      "outputs": [
        {
          "output_type": "stream",
          "text": [
            "1\n",
            "3\n"
          ],
          "name": "stdout"
        }
      ]
    },
    {
      "cell_type": "markdown",
      "metadata": {
        "id": "33por-miohiN"
      },
      "source": [
        "range(0,4,2)는 0부터 4의 직전값까지 두칸을 띄어서 만들어라.\r\n",
        "\r\n",
        "즉 0, 2 가 만들어짐."
      ]
    },
    {
      "cell_type": "code",
      "metadata": {
        "id": "LzIBBN0ZowEb",
        "outputId": "9f196851-a5a1-4e00-8770-2303d660b190",
        "colab": {
          "base_uri": "https://localhost:8080/"
        }
      },
      "source": [
        "a = [1, 2, 3, 4, 5, 6, 7, 8, 9, 10]\r\n",
        "for i in range(0,10,3):\r\n",
        "  print(a[i])"
      ],
      "execution_count": 8,
      "outputs": [
        {
          "output_type": "stream",
          "text": [
            "1\n",
            "4\n",
            "7\n",
            "10\n"
          ],
          "name": "stdout"
        }
      ]
    },
    {
      "cell_type": "markdown",
      "metadata": {
        "id": "-3CFcYqao3K2"
      },
      "source": [
        "range(0, 10) = range(0, 10, 1)\r\n",
        "\r\n",
        "원래 기본값이 하나씩 띄어서 하는 것이기 때문"
      ]
    },
    {
      "cell_type": "code",
      "metadata": {
        "colab": {
          "base_uri": "https://localhost:8080/"
        },
        "id": "sNe77ACzf5s9",
        "outputId": "cf91d14f-2a49-4056-e6d1-98ba75eaf956"
      },
      "source": [
        "a = ['red', 'green', 'blue', 'purple']\r\n",
        "for i in a:\r\n",
        "    print(i)"
      ],
      "execution_count": null,
      "outputs": [
        {
          "output_type": "stream",
          "text": [
            "red\n",
            "green\n",
            "blue\n",
            "purple\n"
          ],
          "name": "stdout"
        }
      ]
    },
    {
      "cell_type": "code",
      "metadata": {
        "colab": {
          "base_uri": "https://localhost:8080/"
        },
        "id": "BnoxuC2Ffl3V",
        "outputId": "8bf8a007-7120-4f6d-8aaf-4514cb0b5aaa"
      },
      "source": [
        "a = ['red', 'green', 'blue', 'purple']\r\n",
        "for i in range(len(a)):\r\n",
        "    print(a[i])"
      ],
      "execution_count": null,
      "outputs": [
        {
          "output_type": "stream",
          "text": [
            "red\n",
            "green\n",
            "blue\n",
            "purple\n"
          ],
          "name": "stdout"
        }
      ]
    },
    {
      "cell_type": "markdown",
      "metadata": {
        "id": "AMbknSRzpfqy"
      },
      "source": [
        "중간 부분 몇 개는 건너뛰었음"
      ]
    },
    {
      "cell_type": "markdown",
      "metadata": {
        "id": "gfdsTHg6pjkL"
      },
      "source": [
        "제어문 syntax\r\n",
        "\r\n",
        "(1) if\r\n",
        "\r\n",
        "(2) for"
      ]
    },
    {
      "cell_type": "code",
      "metadata": {
        "id": "t1JtrVtap2SK",
        "outputId": "6c3e3af0-27db-4eeb-afca-53819435e6d8",
        "colab": {
          "base_uri": "https://localhost:8080/"
        }
      },
      "source": [
        "a = 0\r\n",
        "if a == 0:\r\n",
        "    print(a)\r\n",
        "else:\r\n",
        "    print(a+1)"
      ],
      "execution_count": 9,
      "outputs": [
        {
          "output_type": "stream",
          "text": [
            "0\n"
          ],
          "name": "stdout"
        }
      ]
    },
    {
      "cell_type": "markdown",
      "metadata": {
        "id": "G3QDVm4Jp3pq"
      },
      "source": [
        "a = 0 ; a에 0을 assign하는 것\r\n",
        "\r\n",
        "a == 0 ; 이것이 진짜 equal sign"
      ]
    },
    {
      "cell_type": "code",
      "metadata": {
        "id": "zVdCgck9qVNy",
        "outputId": "bfcd60eb-a7bc-4d17-9f61-08dc78153557",
        "colab": {
          "base_uri": "https://localhost:8080/"
        }
      },
      "source": [
        "a = 1\r\n",
        "if a == 0:\r\n",
        "    print(a)\r\n",
        "else:\r\n",
        "    print(a+1)"
      ],
      "execution_count": 10,
      "outputs": [
        {
          "output_type": "stream",
          "text": [
            "2\n"
          ],
          "name": "stdout"
        }
      ]
    },
    {
      "cell_type": "code",
      "metadata": {
        "id": "kgIAffKZqdT5"
      },
      "source": [
        "a = 1\r\n",
        "if a == 0:\r\n",
        "    print(a)"
      ],
      "execution_count": 11,
      "outputs": []
    },
    {
      "cell_type": "markdown",
      "metadata": {
        "id": "2Nsep5qGqX30"
      },
      "source": [
        "위의 경우에는 아무것도 출력되지 않음."
      ]
    },
    {
      "cell_type": "code",
      "metadata": {
        "id": "Luko1QVFf8l4"
      },
      "source": [
        "for i in range(1, 3):\r\n",
        "    for j in range(3, 5):\r\n",
        "        print(i*j)"
      ],
      "execution_count": null,
      "outputs": []
    },
    {
      "cell_type": "markdown",
      "metadata": {
        "id": "pIOpdxDuqzjc"
      },
      "source": [
        "제일 큰 roop인 range(1,3)을 보면, 1,2가 i에 들어감.\r\n",
        "\r\n",
        "작은 roop인 range(3,5) = 3,4가 j에 들어감.\r\n",
        "\r\n",
        "i=1일 때, j=3 ... 3이 출력됨\r\n",
        "\r\n",
        "i=1일 때, j=4 ... 4가 출력됨\r\n",
        "\r\n",
        "i=2일 때, j=3 ... 6이 출력됨\r\n",
        "\r\n",
        "i=2일 때, j=4 ... 8이 출력됨\r\n",
        "\r\n",
        "큰 roop가 먼저 돌고, 그 아래 작은 roop가 돈다고 생각하면 됨."
      ]
    },
    {
      "cell_type": "code",
      "metadata": {
        "id": "TMSprps4rpNl",
        "outputId": "8c5b545f-8c77-44f4-eb23-b5660a977747",
        "colab": {
          "base_uri": "https://localhost:8080/"
        }
      },
      "source": [
        "for i in range(1, 3):\r\n",
        "    for j in range(3, 5):\r\n",
        "        if j >=4:\r\n",
        "            print(i*j)"
      ],
      "execution_count": 12,
      "outputs": [
        {
          "output_type": "stream",
          "text": [
            "4\n",
            "8\n"
          ],
          "name": "stdout"
        }
      ]
    },
    {
      "cell_type": "markdown",
      "metadata": {
        "id": "KKA-beWjr29P"
      },
      "source": [
        "시험문제에 많이 출제하는 유형. for과 if가 동시에 나와있는 경우\r\n",
        "\r\n",
        "range(1,3) -> 1,2\r\n",
        "\r\n",
        "range(3,5) -> 3,4\r\n",
        "\r\n",
        "roop가 2개 있으니까 if 명령문은 총 4번 실행됨.\r\n",
        "\r\n",
        "직접 하나씩 생각해보면서 어떻게 print 되는지 생각해보기 꼭!"
      ]
    },
    {
      "cell_type": "code",
      "metadata": {
        "id": "CbisMoEEsg5l",
        "outputId": "d274264d-e6fd-45df-f96e-21be794c45b0",
        "colab": {
          "base_uri": "https://localhost:8080/"
        }
      },
      "source": [
        "a = [1, 2, 3, 4]\r\n",
        "b = [i for i in a if i >=2]\r\n",
        "b"
      ],
      "execution_count": 13,
      "outputs": [
        {
          "output_type": "execute_result",
          "data": {
            "text/plain": [
              "[2, 3, 4]"
            ]
          },
          "metadata": {
            "tags": []
          },
          "execution_count": 13
        }
      ]
    },
    {
      "cell_type": "markdown",
      "metadata": {
        "id": "OZZ6zqCyskoQ"
      },
      "source": [
        "a, b 둘 다 list\r\n",
        "\r\n",
        "b 같은 애들을 loop list, list loop라고 부르기도 함.\r\n",
        "\r\n",
        "for i in [1,2,3,4]\r\n",
        "\r\n",
        "> if i>=2\r\n",
        "\r\n",
        "> i\r\n",
        "\r\n",
        "b = [2, 3, 4]\r\n",
        "\r\n"
      ]
    },
    {
      "cell_type": "code",
      "metadata": {
        "id": "6fZYdgTSsi4_",
        "outputId": "b2ba3450-d385-4cfe-86a4-ecee20cf5a31",
        "colab": {
          "base_uri": "https://localhost:8080/"
        }
      },
      "source": [
        "a = ['red', 'green', 'blue', 'purple']\r\n",
        "b = [i for i in a if len(i) >=4]\r\n",
        "b"
      ],
      "execution_count": 15,
      "outputs": [
        {
          "output_type": "execute_result",
          "data": {
            "text/plain": [
              "['green', 'blue', 'purple']"
            ]
          },
          "metadata": {
            "tags": []
          },
          "execution_count": 15
        }
      ]
    },
    {
      "cell_type": "markdown",
      "metadata": {
        "id": "j8uXR1MWsmDX"
      },
      "source": [
        "b = [i]\r\n",
        "\r\n",
        "for i in a:\r\n",
        "\r\n",
        "> if len(i)>=4\r\n",
        "\r\n",
        "> i\r\n",
        "\r\n",
        "b = ['green', 'blue', 'purple']"
      ]
    }
  ]
}