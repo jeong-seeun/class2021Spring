{
  "nbformat": 4,
  "nbformat_minor": 0,
  "metadata": {
    "colab": {
      "name": "Untitled0.ipynb",
      "provenance": [],
      "authorship_tag": "ABX9TyPmkH7SJNSJnp4AwHaB5pcZ",
      "include_colab_link": true
    },
    "kernelspec": {
      "name": "python3",
      "display_name": "Python 3"
    }
  },
  "cells": [
    {
      "cell_type": "markdown",
      "metadata": {
        "id": "view-in-github",
        "colab_type": "text"
      },
      "source": [
        "<a href=\"https://colab.research.google.com/github/jeong-seeun/class2021Spring/blob/main/0315%ED%95%84%EA%B8%B0(variables).ipynb\" target=\"_parent\"><img src=\"https://colab.research.google.com/assets/colab-badge.svg\" alt=\"Open In Colab\"/></a>"
      ]
    },
    {
      "cell_type": "code",
      "metadata": {
        "colab": {
          "base_uri": "https://localhost:8080/"
        },
        "id": "gP_i_qduQTTR",
        "outputId": "6c83a538-948c-4d6b-8729-44eef51f0862"
      },
      "source": [
        "a = 1\r\n",
        "a\r\n",
        "b = 2\r\n",
        "b\r\n",
        "c = 3\r\n",
        "c"
      ],
      "execution_count": 1,
      "outputs": [
        {
          "output_type": "execute_result",
          "data": {
            "text/plain": [
              "3"
            ]
          },
          "metadata": {
            "tags": []
          },
          "execution_count": 1
        }
      ]
    },
    {
      "cell_type": "markdown",
      "metadata": {
        "id": "dQrSQr48Rjag"
      },
      "source": [
        "제일 마지막 것만 출력됨. 위의 a,b는 print되지 않음. 따라서 여러 개를 출력하고자 할 때에는 print(a), print(b)를 같이 써줘야함."
      ]
    },
    {
      "cell_type": "code",
      "metadata": {
        "colab": {
          "base_uri": "https://localhost:8080/"
        },
        "id": "vd-M3cL8RjBO",
        "outputId": "d85f8593-3098-4a0a-b77a-e51e85fe2a68"
      },
      "source": [
        "a = 1\r\n",
        "print(a)\r\n",
        "b = 2\r\n",
        "print(b)\r\n",
        "c = 3\r\n",
        "print(c)"
      ],
      "execution_count": 2,
      "outputs": [
        {
          "output_type": "stream",
          "text": [
            "1\n",
            "2\n",
            "3\n"
          ],
          "name": "stdout"
        }
      ]
    },
    {
      "cell_type": "code",
      "metadata": {
        "colab": {
          "base_uri": "https://localhost:8080/"
        },
        "id": "XOy0yuQpRxSm",
        "outputId": "a11623fd-805f-4123-d34a-ce618ce76fb6"
      },
      "source": [
        "a = 1; print(a); b = 2; print(b); c = 3; print(c)"
      ],
      "execution_count": 3,
      "outputs": [
        {
          "output_type": "stream",
          "text": [
            "1\n",
            "2\n",
            "3\n"
          ],
          "name": "stdout"
        }
      ]
    },
    {
      "cell_type": "markdown",
      "metadata": {
        "id": "Y56ILWZGR8L_"
      },
      "source": [
        ";를 이용하면 줄바꿈 대신 사용할 수 있음. 하지만 줄바꿈으로 하는 것이 보기 편함."
      ]
    },
    {
      "cell_type": "code",
      "metadata": {
        "colab": {
          "base_uri": "https://localhost:8080/"
        },
        "id": "0r5LlagLR7FL",
        "outputId": "97d242d2-4553-4685-ed05-b2c60ecdaea1"
      },
      "source": [
        "a = 1.22\r\n",
        "print(type(a))"
      ],
      "execution_count": 4,
      "outputs": [
        {
          "output_type": "stream",
          "text": [
            "<class 'float'>\n"
          ],
          "name": "stdout"
        }
      ]
    },
    {
      "cell_type": "markdown",
      "metadata": {
        "id": "uSN2_boHSMY6"
      },
      "source": [
        "int : 정수, float:소숫점이 있는 숫자"
      ]
    },
    {
      "cell_type": "code",
      "metadata": {
        "colab": {
          "base_uri": "https://localhost:8080/"
        },
        "id": "iiENQPXRSLFs",
        "outputId": "9cdf83db-3175-46a2-a553-d697966d7d50"
      },
      "source": [
        "a = 1; a = float(a); print(type(a))\r\n",
        "print(a)"
      ],
      "execution_count": 6,
      "outputs": [
        {
          "output_type": "stream",
          "text": [
            "<class 'float'>\n",
            "1.0\n"
          ],
          "name": "stdout"
        }
      ]
    },
    {
      "cell_type": "markdown",
      "metadata": {
        "id": "Ee9imqOOShM4"
      },
      "source": [
        "원래는 print(a)하면 1이 나오지만 a=float(a)라고 assign함으로써 1.0이 출력됨"
      ]
    },
    {
      "cell_type": "code",
      "metadata": {
        "colab": {
          "base_uri": "https://localhost:8080/"
        },
        "id": "u_HkfuqaScY6",
        "outputId": "f82cc8c5-2f14-49c9-a2cf-1deaa3732c6a"
      },
      "source": [
        "a = 1.2; a = int(a); print(type(a))\r\n",
        "print(a)"
      ],
      "execution_count": 8,
      "outputs": [
        {
          "output_type": "stream",
          "text": [
            "<class 'int'>\n",
            "1\n"
          ],
          "name": "stdout"
        }
      ]
    },
    {
      "cell_type": "markdown",
      "metadata": {
        "id": "iL9Cw5ZYSwb_"
      },
      "source": [
        "원래 a는 1.2(float)이지만 a=int(a) 를 assign했기 때문에 반올림된 1이 출력됨."
      ]
    },
    {
      "cell_type": "code",
      "metadata": {
        "colab": {
          "base_uri": "https://localhost:8080/"
        },
        "id": "6gFhv2WYSuq0",
        "outputId": "eb4bd369-b494-4f0d-9340-a84e44c074ee"
      },
      "source": [
        "a = '123'\r\n",
        "print(type(a))\r\n",
        "print(a[1])"
      ],
      "execution_count": 10,
      "outputs": [
        {
          "output_type": "stream",
          "text": [
            "<class 'str'>\n",
            "2\n"
          ],
          "name": "stdout"
        }
      ]
    },
    {
      "cell_type": "markdown",
      "metadata": {
        "id": "c8QYPIGKTBhx"
      },
      "source": [
        "'123'과 \"123\"은 똑같은 역할. 주로 ' ~~'로 씀.\r\n",
        "a[0] : a의 0번째 (우리가 흔히 말하는 첫번째를 뜻함, 가장 처음에 있는 것)"
      ]
    },
    {
      "cell_type": "code",
      "metadata": {
        "colab": {
          "base_uri": "https://localhost:8080/"
        },
        "id": "SJORhVmXS9wf",
        "outputId": "669cadd2-f62d-46b9-98e3-a60f9f50a36f"
      },
      "source": [
        "a = 'korea'\r\n",
        "print(a[1])"
      ],
      "execution_count": 11,
      "outputs": [
        {
          "output_type": "stream",
          "text": [
            "o\n"
          ],
          "name": "stdout"
        }
      ]
    },
    {
      "cell_type": "code",
      "metadata": {
        "colab": {
          "base_uri": "https://localhost:8080/"
        },
        "id": "dqH4FApOTXw-",
        "outputId": "4b2bd502-8740-4136-8ac4-a3931b073933"
      },
      "source": [
        "a = '123'\r\n",
        "print(type(a))\r\n",
        "a = list(a)\r\n",
        "print(type(a))\r\n",
        "print(a)\r\n",
        "print(a[2])"
      ],
      "execution_count": 13,
      "outputs": [
        {
          "output_type": "stream",
          "text": [
            "<class 'str'>\n",
            "<class 'list'>\n",
            "['1', '2', '3']\n",
            "3\n"
          ],
          "name": "stdout"
        }
      ]
    },
    {
      "cell_type": "markdown",
      "metadata": {
        "id": "2tYyEIVRTgpa"
      },
      "source": [
        "a는 원래 '123'(string)이지만 list로 assign해서 바꿀 수도 있음."
      ]
    },
    {
      "cell_type": "code",
      "metadata": {
        "id": "BPGARVDTTfEQ"
      },
      "source": [
        "a = [1,2,3,4]\r\n",
        "a = ['ab', 'cde', 'jky']\r\n",
        "a = [1, 'cde', 4]\r\n",
        "a = [1, 'cde', [1,3]]"
      ],
      "execution_count": 15,
      "outputs": []
    },
    {
      "cell_type": "markdown",
      "metadata": {
        "id": "rQ0VC1ZRUIim"
      },
      "source": [
        "어떤 형식이든 다 list 가능함"
      ]
    },
    {
      "cell_type": "code",
      "metadata": {
        "colab": {
          "base_uri": "https://localhost:8080/"
        },
        "id": "8jNKeJEDUKfy",
        "outputId": "34f2b1a5-fda9-4ead-c6e2-67bfd2bb9014"
      },
      "source": [
        "a = [1,'2', [3, '4']]\r\n",
        "print(a[2])"
      ],
      "execution_count": 18,
      "outputs": [
        {
          "output_type": "stream",
          "text": [
            "[3, '4']\n"
          ],
          "name": "stdout"
        }
      ]
    },
    {
      "cell_type": "code",
      "metadata": {
        "colab": {
          "base_uri": "https://localhost:8080/"
        },
        "id": "3CJVPSnGUVTb",
        "outputId": "802f0c1b-4399-45a2-8c26-a0a50c63baf7"
      },
      "source": [
        "a = [1, 2, 3]\r\n",
        "type(a)\r\n",
        "a = (1, 2, 3)\r\n",
        "type(a)"
      ],
      "execution_count": 19,
      "outputs": [
        {
          "output_type": "execute_result",
          "data": {
            "text/plain": [
              "tuple"
            ]
          },
          "metadata": {
            "tags": []
          },
          "execution_count": 19
        }
      ]
    },
    {
      "cell_type": "code",
      "metadata": {
        "colab": {
          "base_uri": "https://localhost:8080/"
        },
        "id": "uVEBL4A6VsP-",
        "outputId": "99381747-ecb1-4be6-dc37-cec8c83610c8"
      },
      "source": [
        "a = [1, 2, 3]\r\n",
        "a[0] = -1\r\n",
        "a"
      ],
      "execution_count": 20,
      "outputs": [
        {
          "output_type": "execute_result",
          "data": {
            "text/plain": [
              "[-1, 2, 3]"
            ]
          },
          "metadata": {
            "tags": []
          },
          "execution_count": 20
        }
      ]
    },
    {
      "cell_type": "markdown",
      "metadata": {
        "id": "qAc7CcHtWFIm"
      },
      "source": [
        "a[0] = -1\r\n",
        "\r\n",
        "a의 0번째 것을 -1로 replace하라"
      ]
    },
    {
      "cell_type": "code",
      "metadata": {
        "colab": {
          "base_uri": "https://localhost:8080/",
          "height": 213
        },
        "id": "NKZjPp4RV0Q7",
        "outputId": "848e7cc2-728e-4c8b-a8bf-7bbb34c91018"
      },
      "source": [
        "a = (1, 2, 3)\r\n",
        "a[0] = -1\r\n",
        "a"
      ],
      "execution_count": 21,
      "outputs": [
        {
          "output_type": "error",
          "ename": "TypeError",
          "evalue": "ignored",
          "traceback": [
            "\u001b[0;31m---------------------------------------------------------------------------\u001b[0m",
            "\u001b[0;31mTypeError\u001b[0m                                 Traceback (most recent call last)",
            "\u001b[0;32m<ipython-input-21-5e3e3effe378>\u001b[0m in \u001b[0;36m<module>\u001b[0;34m()\u001b[0m\n\u001b[1;32m      1\u001b[0m \u001b[0ma\u001b[0m \u001b[0;34m=\u001b[0m \u001b[0;34m(\u001b[0m\u001b[0;36m1\u001b[0m\u001b[0;34m,\u001b[0m \u001b[0;36m2\u001b[0m\u001b[0;34m,\u001b[0m \u001b[0;36m3\u001b[0m\u001b[0;34m)\u001b[0m\u001b[0;34m\u001b[0m\u001b[0;34m\u001b[0m\u001b[0m\n\u001b[0;32m----> 2\u001b[0;31m \u001b[0ma\u001b[0m\u001b[0;34m[\u001b[0m\u001b[0;36m0\u001b[0m\u001b[0;34m]\u001b[0m \u001b[0;34m=\u001b[0m \u001b[0;34m-\u001b[0m\u001b[0;36m1\u001b[0m\u001b[0;34m\u001b[0m\u001b[0;34m\u001b[0m\u001b[0m\n\u001b[0m\u001b[1;32m      3\u001b[0m \u001b[0ma\u001b[0m\u001b[0;34m\u001b[0m\u001b[0;34m\u001b[0m\u001b[0m\n",
            "\u001b[0;31mTypeError\u001b[0m: 'tuple' object does not support item assignment"
          ]
        }
      ]
    },
    {
      "cell_type": "markdown",
      "metadata": {
        "id": "Oww-VLooV02f"
      },
      "source": [
        "tuple은 replace가 불가능함. 보안상 좀 더 좋음."
      ]
    },
    {
      "cell_type": "code",
      "metadata": {
        "colab": {
          "base_uri": "https://localhost:8080/",
          "height": 55
        },
        "id": "bZM17WB0WE06",
        "outputId": "4da416a8-703f-4b36-b9c0-18fa7fe96fb0"
      },
      "source": [
        "a =\t{'a': 'apple', 'b': 'orange', 'c': 2014}\r\n",
        "print(type(a))\r\n",
        "a['b']"
      ],
      "execution_count": 23,
      "outputs": [
        {
          "output_type": "stream",
          "text": [
            "<class 'dict'>\n"
          ],
          "name": "stdout"
        },
        {
          "output_type": "execute_result",
          "data": {
            "application/vnd.google.colaboratory.intrinsic+json": {
              "type": "string"
            },
            "text/plain": [
              "'orange'"
            ]
          },
          "metadata": {
            "tags": []
          },
          "execution_count": 23
        }
      ]
    },
    {
      "cell_type": "markdown",
      "metadata": {
        "id": "7cqngXolWfri"
      },
      "source": [
        "dict는 0번째, 1번째라는 말을 쓰지 않음.\r\n",
        "\r\n",
        "a[\"b\"]  : a의 표제어 b는 무엇을 뜻하는지 print"
      ]
    },
    {
      "cell_type": "code",
      "metadata": {
        "colab": {
          "base_uri": "https://localhost:8080/"
        },
        "id": "IceCbapdWp-8",
        "outputId": "891fab4b-5b92-4ac6-8324-11afdc055041"
      },
      "source": [
        "a =\t{'a': 'apple', 'b': 'orange', 'c': 2014}\r\n",
        "a['c'] = 2021\r\n",
        "a"
      ],
      "execution_count": 24,
      "outputs": [
        {
          "output_type": "execute_result",
          "data": {
            "text/plain": [
              "{'a': 'apple', 'b': 'orange', 'c': 2021}"
            ]
          },
          "metadata": {
            "tags": []
          },
          "execution_count": 24
        }
      ]
    },
    {
      "cell_type": "markdown",
      "metadata": {
        "id": "yQWB-JuXXKBl"
      },
      "source": [
        "구성요소를 바꿀 수는 있음. 하지만 index를 바꿀 수는 없음."
      ]
    },
    {
      "cell_type": "code",
      "metadata": {
        "id": "6QwvOae2XJoA"
      },
      "source": [
        ""
      ],
      "execution_count": null,
      "outputs": []
    }
  ]
}