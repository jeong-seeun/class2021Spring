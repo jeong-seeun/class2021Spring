{
  "nbformat": 4,
  "nbformat_minor": 0,
  "metadata": {
    "colab": {
      "name": "0322필기.ipynb",
      "provenance": [],
      "authorship_tag": "ABX9TyN2j6AJ8SpdrlK776wSDIpk",
      "include_colab_link": true
    },
    "kernelspec": {
      "name": "python3",
      "display_name": "Python 3"
    },
    "language_info": {
      "name": "python"
    }
  },
  "cells": [
    {
      "cell_type": "markdown",
      "metadata": {
        "id": "view-in-github",
        "colab_type": "text"
      },
      "source": [
        "<a href=\"https://colab.research.google.com/github/jeong-seeun/class2021Spring/blob/main/0322%ED%95%84%EA%B8%B0.ipynb\" target=\"_parent\"><img src=\"https://colab.research.google.com/assets/colab-badge.svg\" alt=\"Open In Colab\"/></a>"
      ]
    },
    {
      "cell_type": "markdown",
      "metadata": {
        "id": "VxDVNPGKT6Sh"
      },
      "source": [
        "함수 : 반드시 입출력이 있어야 함\n",
        "\n",
        "y = ax + b (보통 x는 입력, y는 출력을 가정함)\n",
        "\n",
        "입출력이 없으면 단순 방정식에 불과함"
      ]
    },
    {
      "cell_type": "code",
      "metadata": {
        "id": "vGCAJ262T3gm"
      },
      "source": [
        "def add(a,b):\n",
        "  return a+b\n",
        "\n",
        "def subtract(a,b):\n",
        "  return a-b\n",
        "\n",
        "def multiply(a,b):\n",
        "  return a*b\n",
        "\n",
        "def divide(a,b):\n",
        "  return a/b"
      ],
      "execution_count": 3,
      "outputs": []
    },
    {
      "cell_type": "markdown",
      "metadata": {
        "id": "fh7qQy9mUQLK"
      },
      "source": [
        "def addition(a,b,c) 또는 def addition(x1,x2) 이런 식으로..\n",
        "\n",
        "// a=1, b=2\n",
        "\n",
        "def func1(x)\n",
        "\n",
        "y=ax+b\n",
        "\n",
        "return y // ...1차 함수\n",
        "\n",
        "// fucn1(x, a, b)\n",
        "\n",
        "y=ax+b\n",
        "\n",
        "func1(5,1,-2)\n",
        "\n",
        "return y\n",
        "\n",
        "3이 출력됨 //\n",
        "\n",
        "return a+b : f(a,b)=a+b\n",
        "\n",
        ">a,b는 입력, a+b는 출력\n",
        "\n",
        "입력이 약간 변형돼서 출력됨\n"
      ]
    },
    {
      "cell_type": "code",
      "metadata": {
        "colab": {
          "base_uri": "https://localhost:8080/"
        },
        "id": "bU6h4_6lVpW7",
        "outputId": "a62c66e7-8725-46c0-e20c-f9fdeffed285"
      },
      "source": [
        "c = add(1,2); print(c)\n",
        "c = subtract(1,2); print(c)\n",
        "c = multiply(1,2); print(c)\n",
        "c = divide(1,2); print(c)"
      ],
      "execution_count": 4,
      "outputs": [
        {
          "output_type": "stream",
          "text": [
            "3\n",
            "-1\n",
            "2\n",
            "0.5\n"
          ],
          "name": "stdout"
        }
      ]
    },
    {
      "cell_type": "code",
      "metadata": {
        "id": "ThovQN6pWTQ4"
      },
      "source": [
        "def add(a,b):\n",
        "  return a, b\n",
        "\n",
        "def subtract(a,b):\n",
        "  return a-b\n",
        "\n",
        "def multiply(a,b):\n",
        "  return a*b\n",
        "\n",
        "def divide(a,b):\n",
        "  return a/b"
      ],
      "execution_count": 11,
      "outputs": []
    },
    {
      "cell_type": "code",
      "metadata": {
        "colab": {
          "base_uri": "https://localhost:8080/"
        },
        "id": "mlf_kDA0WbBn",
        "outputId": "730177b9-aaa2-4ccb-e8e1-650f761343ae"
      },
      "source": [
        "result = add(1,2); print(result)\n",
        "type(result)\n"
      ],
      "execution_count": 12,
      "outputs": [
        {
          "output_type": "stream",
          "text": [
            "(1, 2)\n"
          ],
          "name": "stdout"
        },
        {
          "output_type": "execute_result",
          "data": {
            "text/plain": [
              "tuple"
            ]
          },
          "metadata": {
            "tags": []
          },
          "execution_count": 12
        }
      ]
    },
    {
      "cell_type": "markdown",
      "metadata": {
        "id": "t6kJRYhFWt3X"
      },
      "source": [
        "def func1(x, a, b)\n",
        "\n",
        "y = ax + b\n",
        "\n",
        "return y\n",
        "\n",
        "이게 1차함수를 만드는 과정"
      ]
    },
    {
      "cell_type": "code",
      "metadata": {
        "id": "bGH9pTn_akUu"
      },
      "source": [
        ""
      ],
      "execution_count": null,
      "outputs": []
    },
    {
      "cell_type": "markdown",
      "metadata": {
        "id": "jOcN6jWMakkE"
      },
      "source": [
        "#Class\n",
        "\n",
        "재료 같은 것이 \"변수\", operater가 \"함수\"\n",
        "\n",
        "함수와 변수를 module화 한 것이 \"class\"\n",
        "\n",
        "class ; oop(object oriented program)\n",
        "\n",
        "python은 class의 개념이 잘 녹아있는 언어\n",
        "\n"
      ]
    },
    {
      "cell_type": "code",
      "metadata": {
        "id": "FS37tlYlbReF"
      },
      "source": [
        "class cal:\n",
        "  def __init__(self):\n",
        "    self.result = 0\n",
        "  def add(self, n):\n",
        "    self.result += n\n",
        "    return self.result"
      ],
      "execution_count": 21,
      "outputs": []
    },
    {
      "cell_type": "markdown",
      "metadata": {
        "id": "wxNdRfr4bE-N"
      },
      "source": [
        "def func(a,b):\n",
        "\n",
        "return y ... 함수를 정의하는 방법\n",
        "\n",
        "self.result 에서 result가 변수임!!\n",
        "\n",
        "## def __init__(self):\n",
        "\n",
        "## self.result=0\n",
        "\n",
        "ㄴ 이 문장이 실행됨\n",
        "\n",
        "##def add(self, n):\n",
        "\n",
        "## self.result += n\n",
        "\n",
        "+= 자기 자신에 n만큼 더 더해주는 것"
      ]
    },
    {
      "cell_type": "code",
      "metadata": {
        "colab": {
          "base_uri": "https://localhost:8080/"
        },
        "id": "mdQAwbzmcT_V",
        "outputId": "9c71baeb-b817-4090-b670-80043babbf63"
      },
      "source": [
        "A = cal()\n",
        "A.result"
      ],
      "execution_count": 17,
      "outputs": [
        {
          "output_type": "execute_result",
          "data": {
            "text/plain": [
              "0"
            ]
          },
          "metadata": {
            "tags": []
          },
          "execution_count": 17
        }
      ]
    },
    {
      "cell_type": "markdown",
      "metadata": {
        "id": "0isAa0v4cead"
      },
      "source": [
        "A(객체)를 찍어냄. 그럼 무조건 \n",
        "\n",
        "def __init__(self):\n",
        "\n",
        "\n",
        "    self.result = 0\n",
        "\n",
        "    가 실행됨\n",
        "\n"
      ]
    },
    {
      "cell_type": "code",
      "metadata": {
        "colab": {
          "base_uri": "https://localhost:8080/"
        },
        "id": "_V24KNBLcsBT",
        "outputId": "d49d3104-badd-4995-fd4e-2baa06a35b0f"
      },
      "source": [
        "A.add(4)"
      ],
      "execution_count": 18,
      "outputs": [
        {
          "output_type": "execute_result",
          "data": {
            "text/plain": [
              "4"
            ]
          },
          "metadata": {
            "tags": []
          },
          "execution_count": 18
        }
      ]
    },
    {
      "cell_type": "markdown",
      "metadata": {
        "id": "PsXe7bKkdG42"
      },
      "source": [
        "원래 result가 0이었는데 거기에 4가 추가로 더해짐."
      ]
    },
    {
      "cell_type": "code",
      "metadata": {
        "colab": {
          "base_uri": "https://localhost:8080/"
        },
        "id": "nn5iwp3BdMB3",
        "outputId": "cf510475-fc34-4531-835f-f4f331ec6cff"
      },
      "source": [
        "A.add(6)"
      ],
      "execution_count": 19,
      "outputs": [
        {
          "output_type": "execute_result",
          "data": {
            "text/plain": [
              "10"
            ]
          },
          "metadata": {
            "tags": []
          },
          "execution_count": 19
        }
      ]
    },
    {
      "cell_type": "code",
      "metadata": {
        "id": "DQ0hyoBWc7GL"
      },
      "source": [
        "def add(self, n):\n",
        "    self.result += n\n",
        "    return self.result"
      ],
      "execution_count": null,
      "outputs": []
    },
    {
      "cell_type": "markdown",
      "metadata": {
        "id": "oSpdZ5C7c7hI"
      },
      "source": [
        "A.add(n)\n",
        "\n",
        "self는 그냥 A를 나타내는 거고, 실제로는 n이 들어가는 것임"
      ]
    },
    {
      "cell_type": "code",
      "metadata": {
        "id": "G12ugViBdeOs"
      },
      "source": [
        "B = cal()"
      ],
      "execution_count": 22,
      "outputs": []
    },
    {
      "cell_type": "code",
      "metadata": {
        "colab": {
          "base_uri": "https://localhost:8080/"
        },
        "id": "KqwG6oxmdixC",
        "outputId": "90eb1147-47e2-4266-c263-c629f92bb675"
      },
      "source": [
        "B.result"
      ],
      "execution_count": 23,
      "outputs": [
        {
          "output_type": "execute_result",
          "data": {
            "text/plain": [
              "0"
            ]
          },
          "metadata": {
            "tags": []
          },
          "execution_count": 23
        }
      ]
    },
    {
      "cell_type": "code",
      "metadata": {
        "colab": {
          "base_uri": "https://localhost:8080/"
        },
        "id": "DfLDf5Ixdj1w",
        "outputId": "f63cbdfe-c761-43ed-c744-04c1d7fbf71e"
      },
      "source": [
        "B.add(5)"
      ],
      "execution_count": 24,
      "outputs": [
        {
          "output_type": "execute_result",
          "data": {
            "text/plain": [
              "5"
            ]
          },
          "metadata": {
            "tags": []
          },
          "execution_count": 24
        }
      ]
    },
    {
      "cell_type": "code",
      "metadata": {
        "id": "n7XNJVS_dq8Z"
      },
      "source": [
        ""
      ],
      "execution_count": null,
      "outputs": []
    },
    {
      "cell_type": "markdown",
      "metadata": {
        "id": "pPXfAALYd43R"
      },
      "source": [
        "#Module\n",
        "\n",
        ": class와 함수들을 한 file 안에 여러가지 모아둔 것\n",
        "\n",
        "단 그 file의 이름은 .ipynb가 되면 안됨\n",
        "\n",
        ".py로 저장하고 필요할 때마다 불러쓰면 됨.\n",
        "\n",
        "mod1.py / mod2.py / mod3.py ... 이렇게 묶어서 저장해서 folderA라고 만들 수도 있음\n",
        "\n"
      ]
    },
    {
      "cell_type": "markdown",
      "metadata": {
        "id": "k9yEQ8spftQH"
      },
      "source": [
        "Module 안에는 class와 function이 들어있음.\n",
        "\n",
        "다른 사람들이 만들어놓은 package 안에 folder가 있고 그 안에 module이 있음.\n",
        "\n",
        "그것을 잘 활용할 줄 알아야 함."
      ]
    },
    {
      "cell_type": "code",
      "metadata": {
        "id": "qCAKlLS5er6B"
      },
      "source": [
        "class cal:\n",
        "  def __init__(self):\n",
        "    self.result = 0\n",
        "  def add(self, n):\n",
        "    self.result += n\n",
        "    return self.result"
      ],
      "execution_count": 25,
      "outputs": []
    },
    {
      "cell_type": "code",
      "metadata": {
        "id": "BuWNi38hesfY"
      },
      "source": [
        "def func(a, b, x):\n",
        "  y = a*x + b\n",
        "  return y"
      ],
      "execution_count": 26,
      "outputs": []
    },
    {
      "cell_type": "markdown",
      "metadata": {
        "id": "Jieqa16egL9Q"
      },
      "source": [
        "matplotlib ⊃ pyplot.py ⊃ func, class\n",
        "\n",
        "func ⊃ hist(), 그 밖의 여러가지....."
      ]
    },
    {
      "cell_type": "code",
      "metadata": {
        "colab": {
          "base_uri": "https://localhost:8080/"
        },
        "id": "RIEKrM8jgK07",
        "outputId": "e2055059-596c-48a8-d63c-c3535b0a99c1"
      },
      "source": [
        "import numpy as np\n",
        "n = np.random.randn(100)\n",
        "n"
      ],
      "execution_count": 30,
      "outputs": [
        {
          "output_type": "execute_result",
          "data": {
            "text/plain": [
              "array([-0.34642273,  0.56774443, -0.30511527, -0.35930139, -1.15184197,\n",
              "        0.39846783, -0.86909765,  0.44509595,  0.48861751,  2.42904526,\n",
              "       -0.26718836,  0.19564915,  1.23924819,  0.79979602,  0.30187842,\n",
              "        0.4911646 , -0.61965883, -1.61227079,  0.01301431, -0.14782044,\n",
              "        1.30760318,  0.85084785,  1.61484055,  0.44008408,  0.14284134,\n",
              "        1.50725318, -0.25076284,  0.21176033,  0.83729752,  1.57585688,\n",
              "        0.77447797,  0.99505972,  0.82229931, -0.09356217, -1.96355916,\n",
              "       -0.01730395, -1.62816541, -0.22578149, -0.59269085,  1.0285433 ,\n",
              "        0.03389044, -1.49855984, -0.25173475, -0.90982913,  1.30187005,\n",
              "        1.22786441, -0.98975428, -0.7574917 , -0.75692552,  0.7773351 ,\n",
              "       -0.05051911, -0.47730492,  0.95276215,  0.23184116,  0.2401002 ,\n",
              "       -0.18427397,  0.21747936, -1.09195932, -0.05673783, -0.64217911,\n",
              "       -1.93781071, -0.31291358,  0.74823433,  0.02975   ,  1.41898495,\n",
              "       -0.26740179, -1.92044044, -0.08128803,  0.15976788,  1.95960352,\n",
              "       -0.75596723,  0.75900224, -0.18698887, -0.36935854,  1.4920812 ,\n",
              "        0.3946858 ,  0.86294552,  2.08602865,  1.56010281, -0.33233075,\n",
              "        1.33758215, -1.37763626,  1.00388409, -0.84758651, -0.73736087,\n",
              "       -0.40040724,  0.71086713, -0.14020548,  0.67134436, -1.2370467 ,\n",
              "        0.8309885 , -0.23951671,  0.67345648, -0.65587969, -1.75955512,\n",
              "       -0.77648568, -0.2498648 ,  1.03190913,  0.73513815,  0.03091858])"
            ]
          },
          "metadata": {
            "tags": []
          },
          "execution_count": 30
        }
      ]
    },
    {
      "cell_type": "markdown",
      "metadata": {
        "id": "lfTlUklZg13y"
      },
      "source": [
        "rand(100) 0을 기준으로 정규분포를 갖는 백 개의 랜덤한 숫자를 만들어 내라."
      ]
    },
    {
      "cell_type": "code",
      "metadata": {
        "id": "vLvLmgUIgmSw"
      },
      "source": [
        "import matplotlib\n",
        "import matplotlib.pyplot\n",
        "from matplotlib import pyplot\n",
        "from matplotlib.pyplot import hist"
      ],
      "execution_count": 28,
      "outputs": []
    },
    {
      "cell_type": "code",
      "metadata": {
        "colab": {
          "base_uri": "https://localhost:8080/",
          "height": 359
        },
        "id": "YWx3-xdghKke",
        "outputId": "8e622fb4-3e81-4ae9-8f9d-2a59094a94bc"
      },
      "source": [
        "import matplotlib.pyplot\n",
        "matplotlib.pyplot.hist(n)\n"
      ],
      "execution_count": 31,
      "outputs": [
        {
          "output_type": "execute_result",
          "data": {
            "text/plain": [
              "(array([ 6.,  5., 10., 18., 19., 10., 18.,  8.,  4.,  2.]),\n",
              " array([-1.96355916, -1.52429872, -1.08503827, -0.64577783, -0.20651739,\n",
              "         0.23274305,  0.67200349,  1.11126393,  1.55052437,  1.98978482,\n",
              "         2.42904526]),\n",
              " <a list of 10 Patch objects>)"
            ]
          },
          "metadata": {
            "tags": []
          },
          "execution_count": 31
        },
        {
          "output_type": "display_data",
          "data": {
            "image/png": "[encoded data removed]",
            "text/plain": [
              "<Figure size 432x288 with 1 Axes>"
            ]
          },
          "metadata": {
            "tags": [],
            "needs_background": "light"
          }
        }
      ]
    },
    {
      "cell_type": "code",
      "metadata": {
        "colab": {
          "base_uri": "https://localhost:8080/",
          "height": 359
        },
        "id": "4iExOT3thZ8C",
        "outputId": "cbb9150b-e8dc-46e0-eac9-d3d55afe2144"
      },
      "source": [
        "from matplotlib import pyplot\n",
        "pyplot.hist(n)"
      ],
      "execution_count": 32,
      "outputs": [
        {
          "output_type": "execute_result",
          "data": {
            "text/plain": [
              "(array([ 6.,  5., 10., 18., 19., 10., 18.,  8.,  4.,  2.]),\n",
              " array([-1.96355916, -1.52429872, -1.08503827, -0.64577783, -0.20651739,\n",
              "         0.23274305,  0.67200349,  1.11126393,  1.55052437,  1.98978482,\n",
              "         2.42904526]),\n",
              " <a list of 10 Patch objects>)"
            ]
          },
          "metadata": {
            "tags": []
          },
          "execution_count": 32
        },
        {
          "output_type": "display_data",
          "data": {
            "image/png": "[encoded data removed]",
            "text/plain": [
              "<Figure size 432x288 with 1 Axes>"
            ]
          },
          "metadata": {
            "tags": [],
            "needs_background": "light"
          }
        }
      ]
    },
    {
      "cell_type": "markdown",
      "metadata": {
        "id": "e2cT5od4hjPS"
      },
      "source": [
        "상위 개념을 from에 쓰고, 하위 개념을 import에 씀"
      ]
    },
    {
      "cell_type": "code",
      "metadata": {
        "colab": {
          "base_uri": "https://localhost:8080/",
          "height": 359
        },
        "id": "vwWE7jqthm1c",
        "outputId": "719a1334-a71b-4449-9afa-52f54938b5a4"
      },
      "source": [
        "from matplotlib.pyplot import hist\n",
        "hist(n)"
      ],
      "execution_count": 35,
      "outputs": [
        {
          "output_type": "execute_result",
          "data": {
            "text/plain": [
              "(array([ 6.,  5., 10., 18., 19., 10., 18.,  8.,  4.,  2.]),\n",
              " array([-1.96355916, -1.52429872, -1.08503827, -0.64577783, -0.20651739,\n",
              "         0.23274305,  0.67200349,  1.11126393,  1.55052437,  1.98978482,\n",
              "         2.42904526]),\n",
              " <a list of 10 Patch objects>)"
            ]
          },
          "metadata": {
            "tags": []
          },
          "execution_count": 35
        },
        {
          "output_type": "display_data",
          "data": {
            "image/png": "[encoded data removed]",
            "text/plain": [
              "<Figure size 432x288 with 1 Axes>"
            ]
          },
          "metadata": {
            "tags": [],
            "needs_background": "light"
          }
        }
      ]
    },
    {
      "cell_type": "markdown",
      "metadata": {
        "id": "MJNWJSMQig_M"
      },
      "source": [
        "package(folder) ⊃ subfolder ⊃ module(.py 같은 애들) ⊃ function 또는 class"
      ]
    }
  ]
}