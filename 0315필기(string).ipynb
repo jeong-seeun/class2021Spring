{
  "nbformat": 4,
  "nbformat_minor": 0,
  "metadata": {
    "colab": {
      "name": "0315필기(string).ipynb",
      "provenance": [],
      "authorship_tag": "ABX9TyNsKCXjUW+2ezrgzQNMn6TV",
      "include_colab_link": true
    },
    "kernelspec": {
      "name": "python3",
      "display_name": "Python 3"
    }
  },
  "cells": [
    {
      "cell_type": "markdown",
      "metadata": {
        "id": "view-in-github",
        "colab_type": "text"
      },
      "source": [
        "<a href=\"https://colab.research.google.com/github/jeong-seeun/class2021Spring/blob/main/0315%ED%95%84%EA%B8%B0(string).ipynb\" target=\"_parent\"><img src=\"https://colab.research.google.com/assets/colab-badge.svg\" alt=\"Open In Colab\"/></a>"
      ]
    },
    {
      "cell_type": "code",
      "metadata": {
        "colab": {
          "base_uri": "https://localhost:8080/",
          "height": 36
        },
        "id": "PlVgWBOQX-SB",
        "outputId": "6eb1003e-1bac-468b-e2ea-591c8a973c61"
      },
      "source": [
        "s = 'abcdef'\r\n",
        "s[4]"
      ],
      "execution_count": 2,
      "outputs": [
        {
          "output_type": "execute_result",
          "data": {
            "application/vnd.google.colaboratory.intrinsic+json": {
              "type": "string"
            },
            "text/plain": [
              "'e'"
            ]
          },
          "metadata": {
            "tags": []
          },
          "execution_count": 2
        }
      ]
    },
    {
      "cell_type": "markdown",
      "metadata": {
        "id": "iiyt-D4BYNF6"
      },
      "source": [
        "string은 어떻게 보면 list와 비슷함.\r\n",
        "\r\n",
        "0번째, 1번째..를 따질 수 있음.\r\n",
        "\r\n",
        "string은 character의 집합이라고 생각하면 됨.\r\n",
        "\r\n",
        "*index를 찾아 들어갈 때는 반드시 []를 씀"
      ]
    },
    {
      "cell_type": "code",
      "metadata": {
        "colab": {
          "base_uri": "https://localhost:8080/"
        },
        "id": "8suf6l45YvXR",
        "outputId": "ca261ca2-f8df-4492-c898-6a9d81d5d216"
      },
      "source": [
        "s = 'abcdef'\r\n",
        "print(s[0], s[5], s[-1], s[-6])"
      ],
      "execution_count": 3,
      "outputs": [
        {
          "output_type": "stream",
          "text": [
            "a f f a\n"
          ],
          "name": "stdout"
        }
      ]
    },
    {
      "cell_type": "markdown",
      "metadata": {
        "id": "Rb2MM4B1YwF6"
      },
      "source": [
        "s[-1] : 뒤로 가서 역으로 세면 됨. 제일 오른쪽 끝에 있는 것이 -1번째."
      ]
    },
    {
      "cell_type": "code",
      "metadata": {
        "colab": {
          "base_uri": "https://localhost:8080/"
        },
        "id": "aa73shHNY8Jv",
        "outputId": "2885efb8-d3e2-4d17-bc30-77dcd76d961f"
      },
      "source": [
        "a = [1,2,3,4]\r\n",
        "a[-1]"
      ],
      "execution_count": 4,
      "outputs": [
        {
          "output_type": "execute_result",
          "data": {
            "text/plain": [
              "4"
            ]
          },
          "metadata": {
            "tags": []
          },
          "execution_count": 4
        }
      ]
    },
    {
      "cell_type": "markdown",
      "metadata": {
        "id": "PQfOfQbBZQK7"
      },
      "source": [
        "list에서도 동일하게 -1번째를 쓸 수 있음."
      ]
    },
    {
      "cell_type": "code",
      "metadata": {
        "colab": {
          "base_uri": "https://localhost:8080/"
        },
        "id": "IOFibbjZY-i_",
        "outputId": "5f383f42-ce48-43af-a5c4-0a9cf0239365"
      },
      "source": [
        "s = 'abcdef'\r\n",
        "print(s[1:3])\r\n",
        "print(s[1:])\r\n",
        "print(s[:3])"
      ],
      "execution_count": 7,
      "outputs": [
        {
          "output_type": "stream",
          "text": [
            "bc\n",
            "bcdef\n",
            "abc\n"
          ],
          "name": "stdout"
        }
      ]
    },
    {
      "cell_type": "markdown",
      "metadata": {
        "id": "Y_QEZ3K0ZY3R"
      },
      "source": [
        "s[1:3] : 1번째에서 3번째의 !전!까지. 즉 1번째에서 2번째까지 출력해라\r\n",
        "\r\n",
        "s[1:] : 1번째에서 끝까지 출력해라\r\n",
        "\r\n",
        "s[:3] : 맨 처음부터 2번째까지 출력해라\r\n",
        "\r\n",
        "s[:] : 맨 처음부터 끝까지 출력해라"
      ]
    },
    {
      "cell_type": "code",
      "metadata": {
        "colab": {
          "base_uri": "https://localhost:8080/"
        },
        "id": "RWlJoYUvZYZx",
        "outputId": "610475a1-4d3d-4052-d51b-c39827ce84a1"
      },
      "source": [
        "n = [100, 200, 300]\r\n",
        "print(n[0], n[2], n[-1], n[-3])\r\n",
        "print(n[1:2], n[1:], n[:2], n[:])"
      ],
      "execution_count": 8,
      "outputs": [
        {
          "output_type": "stream",
          "text": [
            "100 300 300 100\n",
            "[200] [200, 300] [100, 200] [100, 200, 300]\n"
          ],
          "name": "stdout"
        }
      ]
    },
    {
      "cell_type": "markdown",
      "metadata": {
        "id": "yNeO2SDaaLPm"
      },
      "source": [
        "list에도 똑같이 다 적용 가능"
      ]
    },
    {
      "cell_type": "code",
      "metadata": {
        "colab": {
          "base_uri": "https://localhost:8080/"
        },
        "id": "1hLIJyvlaKyL",
        "outputId": "cf2eda37-6d79-4dd1-f2df-d0679a4dd762"
      },
      "source": [
        "print(len(s))\r\n",
        "print(len(n))"
      ],
      "execution_count": 10,
      "outputs": [
        {
          "output_type": "stream",
          "text": [
            "6\n",
            "3\n"
          ],
          "name": "stdout"
        }
      ]
    },
    {
      "cell_type": "markdown",
      "metadata": {
        "id": "REHUyvKMaQZa"
      },
      "source": [
        "len(s) : s의 길이를 나타냄"
      ]
    },
    {
      "cell_type": "code",
      "metadata": {
        "colab": {
          "base_uri": "https://localhost:8080/",
          "height": 36
        },
        "id": "r_EpLbqHaQCv",
        "outputId": "b657394a-ce16-4beb-9c81-3644d6230da9"
      },
      "source": [
        "s = 'abcdef'\r\n",
        "s[1]+s[3]+s[4:]*10"
      ],
      "execution_count": 12,
      "outputs": [
        {
          "output_type": "execute_result",
          "data": {
            "application/vnd.google.colaboratory.intrinsic+json": {
              "type": "string"
            },
            "text/plain": [
              "'bdefefefefefefefefefef'"
            ]
          },
          "metadata": {
            "tags": []
          },
          "execution_count": 12
        }
      ]
    },
    {
      "cell_type": "markdown",
      "metadata": {
        "id": "y90qhPm3afM4"
      },
      "source": [
        "+는 수학적인 더하기가 아니라 문자를 쭉 나열하면 됨."
      ]
    },
    {
      "cell_type": "code",
      "metadata": {
        "colab": {
          "base_uri": "https://localhost:8080/",
          "height": 36
        },
        "id": "E03_vseWaeyI",
        "outputId": "eb41256e-d5a4-4ea3-afb7-0289d7af16f4"
      },
      "source": [
        "s.upper()\r\n",
        "s = s.upper()\r\n",
        "s = s.lower()\r\n",
        "s"
      ],
      "execution_count": 14,
      "outputs": [
        {
          "output_type": "execute_result",
          "data": {
            "application/vnd.google.colaboratory.intrinsic+json": {
              "type": "string"
            },
            "text/plain": [
              "'abcdef'"
            ]
          },
          "metadata": {
            "tags": []
          },
          "execution_count": 14
        }
      ]
    },
    {
      "cell_type": "markdown",
      "metadata": {
        "id": "9yocesefaquQ"
      },
      "source": [
        "s.upper() : s에 있는 것을 대문자로 바꾼 것을 출력해라. s 자체를 바꾸는 것은 아님.\r\n"
      ]
    },
    {
      "cell_type": "code",
      "metadata": {
        "colab": {
          "base_uri": "https://localhost:8080/"
        },
        "id": "DgjaFG-EaqU_",
        "outputId": "843a6ad9-1df1-4e69-ffbb-10c378689924"
      },
      "source": [
        "s = ' this is a house built this year.\\nyes' \t\r\n",
        "print(s)"
      ],
      "execution_count": 15,
      "outputs": [
        {
          "output_type": "stream",
          "text": [
            " this is a house built this year.\n",
            "yes\n"
          ],
          "name": "stdout"
        }
      ]
    },
    {
      "cell_type": "markdown",
      "metadata": {
        "id": "55rzxduibUbg"
      },
      "source": [
        "\\n : 줄바꿈의 역할"
      ]
    },
    {
      "cell_type": "code",
      "metadata": {
        "colab": {
          "base_uri": "https://localhost:8080/"
        },
        "id": "oUQCqw7HbTbq",
        "outputId": "52ca4695-98f0-465d-978b-52bd87610f49"
      },
      "source": [
        "result = s.find('house') \t    # index of first instance of string t inside s (-1 if not found)\r\n",
        "print(result)"
      ],
      "execution_count": 17,
      "outputs": [
        {
          "output_type": "stream",
          "text": [
            "11\n"
          ],
          "name": "stdout"
        }
      ]
    },
    {
      "cell_type": "markdown",
      "metadata": {
        "id": "uRsRbUKbbfkC"
      },
      "source": [
        "+텍스트 치기 귀찮으면 #하고 comment을 적을 수도 있음.\r\n",
        "\r\n",
        "s.find('something')  : something이 몇번째에 있는지 찾아라."
      ]
    },
    {
      "cell_type": "code",
      "metadata": {
        "colab": {
          "base_uri": "https://localhost:8080/"
        },
        "id": "_RB-abFnbfOW",
        "outputId": "aa0e8960-8898-45d1-b850-7866c58171eb"
      },
      "source": [
        "result = s.find('this')\t    # index of last instance of string t inside s (-1 if not found)\r\n",
        "result"
      ],
      "execution_count": 18,
      "outputs": [
        {
          "output_type": "execute_result",
          "data": {
            "text/plain": [
              "1"
            ]
          },
          "metadata": {
            "tags": []
          },
          "execution_count": 18
        }
      ]
    },
    {
      "cell_type": "code",
      "metadata": {
        "colab": {
          "base_uri": "https://localhost:8080/"
        },
        "id": "Ob3FFAaBb53b",
        "outputId": "a7f53778-adfe-4567-edba-0f7aa5a300a0"
      },
      "source": [
        "result = s.find('that')\t    # index of last instance of string t inside s (-1 if not found)\r\n",
        "result"
      ],
      "execution_count": 19,
      "outputs": [
        {
          "output_type": "execute_result",
          "data": {
            "text/plain": [
              "-1"
            ]
          },
          "metadata": {
            "tags": []
          },
          "execution_count": 19
        }
      ]
    },
    {
      "cell_type": "markdown",
      "metadata": {
        "id": "GXhDfwA-b_rJ"
      },
      "source": [
        "찾을 수 없으면 -1이 출력됨"
      ]
    },
    {
      "cell_type": "code",
      "metadata": {
        "colab": {
          "base_uri": "https://localhost:8080/"
        },
        "id": "oaoGOO1ub7Po",
        "outputId": "ced1151c-eca2-41f6-870c-8b8cba2544ed"
      },
      "source": [
        "result = s.rindex('this')        # like s.find(t) except it raises ValueError if not found\r\n",
        "result"
      ],
      "execution_count": 20,
      "outputs": [
        {
          "output_type": "execute_result",
          "data": {
            "text/plain": [
              "23"
            ]
          },
          "metadata": {
            "tags": []
          },
          "execution_count": 20
        }
      ]
    },
    {
      "cell_type": "code",
      "metadata": {
        "colab": {
          "base_uri": "https://localhost:8080/",
          "height": 36
        },
        "id": "ejRubVEHcFmD",
        "outputId": "aa17227b-94d6-4d45-83f0-0b0071ad2ead"
      },
      "source": [
        "s = s.strip()      \t            # a copy of s without leading or trailing whitespace\r\n",
        "s"
      ],
      "execution_count": 22,
      "outputs": [
        {
          "output_type": "execute_result",
          "data": {
            "application/vnd.google.colaboratory.intrinsic+json": {
              "type": "string"
            },
            "text/plain": [
              "'this is a house built this year.\\nyes'"
            ]
          },
          "metadata": {
            "tags": []
          },
          "execution_count": 22
        }
      ]
    },
    {
      "cell_type": "markdown",
      "metadata": {
        "id": "poY6iV67cJ-M"
      },
      "source": [
        "s.strip : 줄바꿈, 맨 앞 또는 맨 뒤의 스페이스 같이 지저분한 것들을 다 지워줌"
      ]
    },
    {
      "cell_type": "code",
      "metadata": {
        "colab": {
          "base_uri": "https://localhost:8080/"
        },
        "id": "-BNVr0AHcJfj",
        "outputId": "e2730d5a-250c-417d-a3f5-dee55bd73e32"
      },
      "source": [
        "tokens = s.split(' ')\t        # split s into a list wherever a t is found (whitespace by default)\r\n",
        "tokens"
      ],
      "execution_count": 23,
      "outputs": [
        {
          "output_type": "execute_result",
          "data": {
            "text/plain": [
              "['this', 'is', 'a', 'house', 'built', 'this', 'year.\\nyes']"
            ]
          },
          "metadata": {
            "tags": []
          },
          "execution_count": 23
        }
      ]
    },
    {
      "cell_type": "markdown",
      "metadata": {
        "id": "KvjryY07cf5e"
      },
      "source": [
        "s.split : 빈칸을 찾아서 잘라서 그것을 list로 만들어라."
      ]
    },
    {
      "cell_type": "code",
      "metadata": {
        "colab": {
          "base_uri": "https://localhost:8080/",
          "height": 36
        },
        "id": "komHm319cfhV",
        "outputId": "9dbef9ee-6b33-4e61-c942-fda4d99ad0dd"
      },
      "source": [
        "s = ' '.join(tokens)\t        # combine the words of the text into a string using s as the glue\r\n",
        "s"
      ],
      "execution_count": 24,
      "outputs": [
        {
          "output_type": "execute_result",
          "data": {
            "application/vnd.google.colaboratory.intrinsic+json": {
              "type": "string"
            },
            "text/plain": [
              "'this is a house built this year.\\nyes'"
            ]
          },
          "metadata": {
            "tags": []
          },
          "execution_count": 24
        }
      ]
    },
    {
      "cell_type": "markdown",
      "metadata": {
        "id": "41-RCPxecyUP"
      },
      "source": [
        "' '.join(tokens) : 공백(space)를 기준으로 join해라."
      ]
    },
    {
      "cell_type": "code",
      "metadata": {
        "colab": {
          "base_uri": "https://localhost:8080/",
          "height": 36
        },
        "id": "g3Zpa133dBzD",
        "outputId": "2d162e74-7a1b-48ef-9f3b-d4e5ad5f9a5a"
      },
      "source": [
        "s = s.replace('this', 'that')   # replace instances of t with u inside s\r\n",
        "s"
      ],
      "execution_count": 25,
      "outputs": [
        {
          "output_type": "execute_result",
          "data": {
            "application/vnd.google.colaboratory.intrinsic+json": {
              "type": "string"
            },
            "text/plain": [
              "'that is a house built that year.\\nyes'"
            ]
          },
          "metadata": {
            "tags": []
          },
          "execution_count": 25
        }
      ]
    },
    {
      "cell_type": "markdown",
      "metadata": {
        "id": "BKPAkRARdDBg"
      },
      "source": [
        "s.replace('this', 'that') : this를 찾아서 that으로 바꾸라."
      ]
    },
    {
      "cell_type": "markdown",
      "metadata": {
        "id": "IzRmot3XdiDw"
      },
      "source": [
        "자연어 처리의 시초,기본이 되는 것이 string"
      ]
    },
    {
      "cell_type": "code",
      "metadata": {
        "id": "Kitowec2dCcn"
      },
      "source": [
        ""
      ],
      "execution_count": null,
      "outputs": []
    }
  ]
}