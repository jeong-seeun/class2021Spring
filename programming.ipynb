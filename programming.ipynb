{
  "nbformat": 4,
  "nbformat_minor": 0,
  "metadata": {
    "colab": {
      "name": "0310수업필기.ipynb",
      "provenance": [],
      "collapsed_sections": [],
      "authorship_tag": "ABX9TyPgBshdIL8DHMkYT+4AxxAK",
      "include_colab_link": true
    },
    "kernelspec": {
      "name": "python3",
      "display_name": "Python 3"
    }
  },
  "cells": [
    {
      "cell_type": "markdown",
      "metadata": {
        "id": "view-in-github",
        "colab_type": "text"
      },
      "source": [
        "<a href=\"https://colab.research.google.com/github/jeong-seeun/class2021Spring/blob/main/programming.ipynb\" target=\"_parent\"><img src=\"https://colab.research.google.com/assets/colab-badge.svg\" alt=\"Open In Colab\"/></a>"
      ]
    },
    {
      "cell_type": "markdown",
      "metadata": {
        "id": "yoN823d3h6_H"
      },
      "source": [
        "#0310 영어음성학\r\n",
        "\r\n",
        "인간의 언어 : 단어 + 문법"
      ]
    },
    {
      "cell_type": "markdown",
      "metadata": {
        "id": "nsfw-ZE2iXa2"
      },
      "source": [
        "##(1)단어\r\n",
        "\r\n",
        "ex) 사과(단어) = @(내용)   ...사람의 언어"
      ]
    },
    {
      "cell_type": "markdown",
      "metadata": {
        "id": "XnReMxf5iUeI"
      },
      "source": [
        "a(variable 변수)  = 1 (내용)           ...컴퓨터의 언어\r\n",
        "\r\n",
        "오른쪽 내용을 왼쪽에 assign (same하다는 뜻이 아님)"
      ]
    },
    {
      "cell_type": "markdown",
      "metadata": {
        "id": "UfVpEp-7i0Nf"
      },
      "source": [
        "변수 = 내용\r\n",
        "\r\n",
        "a = 1  (숫자)\r\n",
        "\r\n",
        "b = 3\r\n",
        "\r\n",
        "c = 'love'  (문자)\r\n",
        "\r\n",
        "d = '123'  (문자)\r\n",
        "\r\n",
        "e = [1, 2, 3] (list)\r\n",
        "\r\n",
        "e = (1, 2, 3)  (튜플) ... list보다 보안에 좋아서 사용함. 하지만 list와 완전 똑같다고 생각하면 됨\r\n",
        "\r\n",
        "f = ['love', 'and']\r\n",
        "\r\n",
        "g = [1, 5, 'in'] 숫자 문자 섞어서 list에 포함시키는 것도 가능\r\n",
        "\r\n",
        "a = {학생1:165, 학생2:170, 학생3:182} (딕셔너리)\r\n",
        "\r\n",
        "b = {사원1:01012345678, 사원2:01098765432}\r\n",
        "\r\n",
        "a = {사과:과일중맛있는것, 바나나:열대과일, 사랑:사람이느끼는감정}"
      ]
    },
    {
      "cell_type": "markdown",
      "metadata": {
        "id": "ZAAK_PAdi9fD"
      },
      "source": [
        "#(2)문법\r\n",
        "\r\n",
        "ex) 사과를 철수에게 얻었다. (정해진 순서가 있음)\r\n",
        "\r\n",
        "\r\n",
        "\r\n",
        "###문법 = 제어문\r\n",
        "\r\n",
        "### 1. 반복 : for\r\n",
        "\r\n",
        "ex) for 100\r\n",
        "\r\n",
        "print(1)\r\n",
        "\r\n",
        "1을 100번 print하라. -> 반복하게 해 줌\r\n",
        "\r\n",
        "### 2. 조건 : if\r\n",
        "\r\n",
        "ex) a=1\r\n",
        "\r\n",
        "if a==1\r\n",
        "\r\n",
        "print(3) -> 3이 출력됨\r\n",
        "\r\n",
        "if a==2\r\n",
        "\r\n",
        "print(3) -> 실행 안 됨\r\n",
        "\r\n",
        "### 3. 함수 : 입출력 관계\r\n",
        "\r\n",
        "input ---(변화 = function)---> output\r\n",
        "\r\n",
        "위의 그림을 식으로 표현한 것이 y=f(x)\r\n",
        "\r\n",
        "x는 입력, y는 출력\r\n",
        "\r\n",
        "ex) y=f(x)\r\n",
        "\r\n",
        "가장 쉬운 형태의 함수 y = 3x + 5 ...1차함수\r\n",
        "\r\n",
        "우리의 몸도 일부의 함수 (음식->변화)\r\n",
        "\r\n",
        "외부의 자극, 소리 같은 것이 자극(input) -> ㅇㅏㄴㄴㅕㅇ(중간출력->또다시 input) -> 내 안부를 묻는구나(output)\r\n",
        "\r\n",
        "교수님의 말소리 (input) -> 중간함수(네트워크망) -> 소리 출력(output)\r\n",
        "\r\n",
        "자동차의 브레이크를 밟음(input) -> 중간함수 -> 자동차가 멈춤(output)\r\n",
        "\r\n",
        "사람의 목소리 (input) -> 인공지능 프로그래밍(중간함수) -> 음성인식(output)"
      ]
    },
    {
      "cell_type": "markdown",
      "metadata": {
        "id": "-_HEn6gTlqcK"
      },
      "source": [
        "day1\r\n",
        "\r\n",
        "a = 1\r\n",
        "\r\n",
        "b = 2\r\n",
        "\r\n",
        "**a+b**  add(a,b)\r\n",
        "\r\n",
        "day2\r\n",
        "\r\n",
        "a = 5\r\n",
        "\r\n",
        "b = 6\r\n",
        "\r\n",
        "**a+b**  add(a,b)\r\n",
        "\r\n",
        "day3\r\n",
        "\r\n",
        "a = 7\r\n",
        "\r\n",
        "b = 3\r\n",
        "\r\n",
        "**a+b**  add(a,b)\r\n",
        "\r\n",
        "계속 더하기 귀찮으니까 함수로 만들자\r\n",
        "\r\n",
        "function add(a,b) -> a+b=c를 출력해라\r\n",
        "\r\n"
      ]
    },
    {
      "cell_type": "markdown",
      "metadata": {
        "id": "nAlUwQMRlqo8"
      },
      "source": [
        ""
      ]
    },
    {
      "cell_type": "markdown",
      "metadata": {
        "id": "qGn5YKQSlqyb"
      },
      "source": [
        ""
      ]
    },
    {
      "cell_type": "markdown",
      "metadata": {
        "id": "kGs9FIL9lq67"
      },
      "source": [
        ""
      ]
    },
    {
      "cell_type": "markdown",
      "metadata": {
        "id": "KwpkWxR0lrCQ"
      },
      "source": [
        ""
      ]
    },
    {
      "cell_type": "markdown",
      "metadata": {
        "id": "yIf2RcCvlrJW"
      },
      "source": [
        ""
      ]
    },
    {
      "cell_type": "markdown",
      "metadata": {
        "id": "aLVWQkMQlrQ3"
      },
      "source": [
        ""
      ]
    },
    {
      "cell_type": "markdown",
      "metadata": {
        "id": "BjSB735-lrYa"
      },
      "source": [
        ""
      ]
    },
    {
      "cell_type": "markdown",
      "metadata": {
        "id": "0BTRPw1rk-6Q"
      },
      "source": [
        ""
      ]
    }
  ]
}